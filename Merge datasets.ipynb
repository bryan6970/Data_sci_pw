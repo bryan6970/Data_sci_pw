{
 "cells": [
  {
   "cell_type": "code",
   "execution_count": 73,
   "id": "initial_id",
   "metadata": {
    "collapsed": true,
    "ExecuteTime": {
     "end_time": "2023-08-01T07:26:54.093415200Z",
     "start_time": "2023-08-01T07:26:54.089910600Z"
    }
   },
   "outputs": [],
   "source": [
    "import numpy as np\n",
    "import pandas as pd\n",
    "import os"
   ]
  },
  {
   "cell_type": "code",
   "execution_count": 45,
   "outputs": [],
   "source": [
    "demand_df = pd.read_csv(\"Demand_dataset.csv\")\n",
    "population_df = pd.read_csv(\"Population df.csv\")\n",
    "holiday_df = pd.read_csv(\"Holiday df.csv\")"
   ],
   "metadata": {
    "collapsed": false,
    "ExecuteTime": {
     "end_time": "2023-08-01T07:11:12.578106Z",
     "start_time": "2023-08-01T07:11:12.548326Z"
    }
   },
   "id": "c7e19bde95479eec"
  },
  {
   "cell_type": "code",
   "execution_count": 76,
   "outputs": [],
   "source": [
    "day_map = {\n",
    "    'Monday': 1,\n",
    "    'Tuesday': 2,\n",
    "    'Wednesday': 3,\n",
    "    'Thursday': 4,\n",
    "    'Friday': 5,\n",
    "    'Saturday': 6,\n",
    "    'Sunday': 7\n",
    "}\n"
   ],
   "metadata": {
    "collapsed": false,
    "ExecuteTime": {
     "end_time": "2023-08-01T07:31:08.360472Z",
     "start_time": "2023-08-01T07:31:08.358964600Z"
    }
   },
   "id": "4f12e59471259945"
  },
  {
   "cell_type": "markdown",
   "source": [
    "# Merge demand and population df "
   ],
   "metadata": {
    "collapsed": false
   },
   "id": "19c5aa5c8a5687de"
  },
  {
   "cell_type": "code",
   "execution_count": 46,
   "outputs": [],
   "source": [
    "demand_df.set_index(\"DateTime\", inplace=True)\n",
    "population_df.set_index(\"DateTime\", inplace=True)"
   ],
   "metadata": {
    "collapsed": false,
    "ExecuteTime": {
     "end_time": "2023-08-01T07:11:12.578106Z",
     "start_time": "2023-08-01T07:11:12.573596200Z"
    }
   },
   "id": "e2ecd0abe45ec23f"
  },
  {
   "cell_type": "code",
   "execution_count": 47,
   "outputs": [],
   "source": [
    "population_df.index = pd.to_datetime(population_df.index)\n",
    "demand_df.index = pd.to_datetime(demand_df.index)"
   ],
   "metadata": {
    "collapsed": false,
    "ExecuteTime": {
     "end_time": "2023-08-01T07:11:12.592192400Z",
     "start_time": "2023-08-01T07:11:12.576105100Z"
    }
   },
   "id": "f7aac1ae4a48581c"
  },
  {
   "cell_type": "code",
   "execution_count": 48,
   "outputs": [],
   "source": [
    "# Resample the population df\n",
    "population_df = population_df.resample(\"30T\").ffill()"
   ],
   "metadata": {
    "collapsed": false,
    "ExecuteTime": {
     "end_time": "2023-08-01T07:11:14.871522900Z",
     "start_time": "2023-08-01T07:11:14.858543100Z"
    }
   },
   "id": "3a09f7cb07158037"
  },
  {
   "cell_type": "code",
   "execution_count": 54,
   "outputs": [],
   "source": [
    "# demand_df.drop(columns=[\"Unnamed: 0\",\"Total Population (Number)\"], inplace=True)\n",
    "# demand_df.to_csv(\"Demand_dataset.csv\")"
   ],
   "metadata": {
    "collapsed": false,
    "ExecuteTime": {
     "end_time": "2023-08-01T07:14:35.865613Z",
     "start_time": "2023-08-01T07:14:35.838522400Z"
    }
   },
   "id": "9134dd7918994b92"
  },
  {
   "cell_type": "code",
   "execution_count": 69,
   "outputs": [
    {
     "data": {
      "text/plain": "                     USEP (Milligrams of gold/MWh)  DEMAND (MW)  SOLAR(MW)  \\\nDateTime                                                                     \n2018-09-01 00:30:00                     446.335250     5516.442          0   \n2018-09-01 01:00:00                     422.275525     5410.561          0   \n2018-09-01 01:30:00                     419.678168     5280.854          0   \n2018-09-01 02:00:00                     441.322807     5197.666          0   \n2018-09-01 02:30:00                     432.209275     5130.163          0   \n...                                            ...          ...        ...   \n2021-09-30 22:00:00                     467.654088     6312.974          0   \n2021-09-30 22:30:00                     433.816490     6159.167          0   \n2021-09-30 23:00:00                     442.836916     6016.091          0   \n2021-09-30 23:30:00                     440.768819     5883.262          0   \n2021-10-01 00:00:00                     448.978175     5747.885          0   \n\n                     Total Population (Number)  \nDateTime                                        \n2018-09-01 00:30:00                  5638676.0  \n2018-09-01 01:00:00                  5638676.0  \n2018-09-01 01:30:00                  5638676.0  \n2018-09-01 02:00:00                  5638676.0  \n2018-09-01 02:30:00                  5638676.0  \n...                                        ...  \n2021-09-30 22:00:00                  5453566.0  \n2021-09-30 22:30:00                  5453566.0  \n2021-09-30 23:00:00                  5453566.0  \n2021-09-30 23:30:00                  5453566.0  \n2021-10-01 00:00:00                  5453566.0  \n\n[5760 rows x 4 columns]",
      "text/html": "<div>\n<style scoped>\n    .dataframe tbody tr th:only-of-type {\n        vertical-align: middle;\n    }\n\n    .dataframe tbody tr th {\n        vertical-align: top;\n    }\n\n    .dataframe thead th {\n        text-align: right;\n    }\n</style>\n<table border=\"1\" class=\"dataframe\">\n  <thead>\n    <tr style=\"text-align: right;\">\n      <th></th>\n      <th>USEP (Milligrams of gold/MWh)</th>\n      <th>DEMAND (MW)</th>\n      <th>SOLAR(MW)</th>\n      <th>Total Population (Number)</th>\n    </tr>\n    <tr>\n      <th>DateTime</th>\n      <th></th>\n      <th></th>\n      <th></th>\n      <th></th>\n    </tr>\n  </thead>\n  <tbody>\n    <tr>\n      <th>2018-09-01 00:30:00</th>\n      <td>446.335250</td>\n      <td>5516.442</td>\n      <td>0</td>\n      <td>5638676.0</td>\n    </tr>\n    <tr>\n      <th>2018-09-01 01:00:00</th>\n      <td>422.275525</td>\n      <td>5410.561</td>\n      <td>0</td>\n      <td>5638676.0</td>\n    </tr>\n    <tr>\n      <th>2018-09-01 01:30:00</th>\n      <td>419.678168</td>\n      <td>5280.854</td>\n      <td>0</td>\n      <td>5638676.0</td>\n    </tr>\n    <tr>\n      <th>2018-09-01 02:00:00</th>\n      <td>441.322807</td>\n      <td>5197.666</td>\n      <td>0</td>\n      <td>5638676.0</td>\n    </tr>\n    <tr>\n      <th>2018-09-01 02:30:00</th>\n      <td>432.209275</td>\n      <td>5130.163</td>\n      <td>0</td>\n      <td>5638676.0</td>\n    </tr>\n    <tr>\n      <th>...</th>\n      <td>...</td>\n      <td>...</td>\n      <td>...</td>\n      <td>...</td>\n    </tr>\n    <tr>\n      <th>2021-09-30 22:00:00</th>\n      <td>467.654088</td>\n      <td>6312.974</td>\n      <td>0</td>\n      <td>5453566.0</td>\n    </tr>\n    <tr>\n      <th>2021-09-30 22:30:00</th>\n      <td>433.816490</td>\n      <td>6159.167</td>\n      <td>0</td>\n      <td>5453566.0</td>\n    </tr>\n    <tr>\n      <th>2021-09-30 23:00:00</th>\n      <td>442.836916</td>\n      <td>6016.091</td>\n      <td>0</td>\n      <td>5453566.0</td>\n    </tr>\n    <tr>\n      <th>2021-09-30 23:30:00</th>\n      <td>440.768819</td>\n      <td>5883.262</td>\n      <td>0</td>\n      <td>5453566.0</td>\n    </tr>\n    <tr>\n      <th>2021-10-01 00:00:00</th>\n      <td>448.978175</td>\n      <td>5747.885</td>\n      <td>0</td>\n      <td>5453566.0</td>\n    </tr>\n  </tbody>\n</table>\n<p>5760 rows × 4 columns</p>\n</div>"
     },
     "execution_count": 69,
     "metadata": {},
     "output_type": "execute_result"
    }
   ],
   "source": [
    "merged_df = demand_df.merge(population_df, left_index=True, right_index=True)\n",
    "merged_df.drop(columns=\"Holiday\", inplace=True)\n",
    "merged_df"
   ],
   "metadata": {
    "collapsed": false,
    "ExecuteTime": {
     "end_time": "2023-08-01T07:22:17.038770Z",
     "start_time": "2023-08-01T07:22:17.024308300Z"
    }
   },
   "id": "de7086a01f5ec8d8"
  },
  {
   "cell_type": "markdown",
   "source": [
    "# Add in holiday"
   ],
   "metadata": {
    "collapsed": false
   },
   "id": "75ef9974be29ff95"
  },
  {
   "cell_type": "code",
   "execution_count": 66,
   "outputs": [],
   "source": [
    "# Set datetime as index\n",
    "holiday_df.set_index(\"DateTime\", inplace=True)\n",
    "holiday_df.index = pd.to_datetime(holiday_df.index)"
   ],
   "metadata": {
    "collapsed": false,
    "ExecuteTime": {
     "end_time": "2023-08-01T07:20:27.285776200Z",
     "start_time": "2023-08-01T07:20:27.283757400Z"
    }
   },
   "id": "a4979f2cdeafb4ef"
  },
  {
   "cell_type": "code",
   "execution_count": 67,
   "outputs": [
    {
     "data": {
      "text/plain": "                            Holiday\nDateTime                           \n2018-01-01 00:00:00  New Year's Day\n2018-01-01 00:30:00  New Year's Day\n2018-01-01 01:00:00  New Year's Day\n2018-01-01 01:30:00  New Year's Day\n2018-01-01 02:00:00  New Year's Day\n...                             ...\n2023-12-24 22:00:00             NaN\n2023-12-24 22:30:00             NaN\n2023-12-24 23:00:00             NaN\n2023-12-24 23:30:00             NaN\n2023-12-25 00:00:00   Christmas Day\n\n[104833 rows x 1 columns]",
      "text/html": "<div>\n<style scoped>\n    .dataframe tbody tr th:only-of-type {\n        vertical-align: middle;\n    }\n\n    .dataframe tbody tr th {\n        vertical-align: top;\n    }\n\n    .dataframe thead th {\n        text-align: right;\n    }\n</style>\n<table border=\"1\" class=\"dataframe\">\n  <thead>\n    <tr style=\"text-align: right;\">\n      <th></th>\n      <th>Holiday</th>\n    </tr>\n    <tr>\n      <th>DateTime</th>\n      <th></th>\n    </tr>\n  </thead>\n  <tbody>\n    <tr>\n      <th>2018-01-01 00:00:00</th>\n      <td>New Year's Day</td>\n    </tr>\n    <tr>\n      <th>2018-01-01 00:30:00</th>\n      <td>New Year's Day</td>\n    </tr>\n    <tr>\n      <th>2018-01-01 01:00:00</th>\n      <td>New Year's Day</td>\n    </tr>\n    <tr>\n      <th>2018-01-01 01:30:00</th>\n      <td>New Year's Day</td>\n    </tr>\n    <tr>\n      <th>2018-01-01 02:00:00</th>\n      <td>New Year's Day</td>\n    </tr>\n    <tr>\n      <th>...</th>\n      <td>...</td>\n    </tr>\n    <tr>\n      <th>2023-12-24 22:00:00</th>\n      <td>NaN</td>\n    </tr>\n    <tr>\n      <th>2023-12-24 22:30:00</th>\n      <td>NaN</td>\n    </tr>\n    <tr>\n      <th>2023-12-24 23:00:00</th>\n      <td>NaN</td>\n    </tr>\n    <tr>\n      <th>2023-12-24 23:30:00</th>\n      <td>NaN</td>\n    </tr>\n    <tr>\n      <th>2023-12-25 00:00:00</th>\n      <td>Christmas Day</td>\n    </tr>\n  </tbody>\n</table>\n<p>104833 rows × 1 columns</p>\n</div>"
     },
     "execution_count": 67,
     "metadata": {},
     "output_type": "execute_result"
    }
   ],
   "source": [
    "# Resample the df\n",
    "holiday_df = holiday_df.resample(\"30T\").ffill(limit=48)\n",
    "holiday_df"
   ],
   "metadata": {
    "collapsed": false,
    "ExecuteTime": {
     "end_time": "2023-08-01T07:20:40.341917200Z",
     "start_time": "2023-08-01T07:20:40.333063200Z"
    }
   },
   "id": "4b80f5c89ae73417"
  },
  {
   "cell_type": "markdown",
   "source": [
    "# Merge into final df"
   ],
   "metadata": {
    "collapsed": false
   },
   "id": "a9d266eeb9c316d2"
  },
  {
   "cell_type": "code",
   "execution_count": 71,
   "outputs": [
    {
     "data": {
      "text/plain": "                     USEP (Milligrams of gold/MWh)  DEMAND (MW)  SOLAR(MW)  \\\nDateTime                                                                     \n2018-09-01 00:30:00                     446.335250     5516.442          0   \n2018-09-01 01:00:00                     422.275525     5410.561          0   \n2018-09-01 01:30:00                     419.678168     5280.854          0   \n2018-09-01 02:00:00                     441.322807     5197.666          0   \n2018-09-01 02:30:00                     432.209275     5130.163          0   \n...                                            ...          ...        ...   \n2021-09-30 22:00:00                     467.654088     6312.974          0   \n2021-09-30 22:30:00                     433.816490     6159.167          0   \n2021-09-30 23:00:00                     442.836916     6016.091          0   \n2021-09-30 23:30:00                     440.768819     5883.262          0   \n2021-10-01 00:00:00                     448.978175     5747.885          0   \n\n                     Total Population (Number) Holiday  \nDateTime                                                \n2018-09-01 00:30:00                  5638676.0     NaN  \n2018-09-01 01:00:00                  5638676.0     NaN  \n2018-09-01 01:30:00                  5638676.0     NaN  \n2018-09-01 02:00:00                  5638676.0     NaN  \n2018-09-01 02:30:00                  5638676.0     NaN  \n...                                        ...     ...  \n2021-09-30 22:00:00                  5453566.0     NaN  \n2021-09-30 22:30:00                  5453566.0     NaN  \n2021-09-30 23:00:00                  5453566.0     NaN  \n2021-09-30 23:30:00                  5453566.0     NaN  \n2021-10-01 00:00:00                  5453566.0     NaN  \n\n[5760 rows x 5 columns]",
      "text/html": "<div>\n<style scoped>\n    .dataframe tbody tr th:only-of-type {\n        vertical-align: middle;\n    }\n\n    .dataframe tbody tr th {\n        vertical-align: top;\n    }\n\n    .dataframe thead th {\n        text-align: right;\n    }\n</style>\n<table border=\"1\" class=\"dataframe\">\n  <thead>\n    <tr style=\"text-align: right;\">\n      <th></th>\n      <th>USEP (Milligrams of gold/MWh)</th>\n      <th>DEMAND (MW)</th>\n      <th>SOLAR(MW)</th>\n      <th>Total Population (Number)</th>\n      <th>Holiday</th>\n    </tr>\n    <tr>\n      <th>DateTime</th>\n      <th></th>\n      <th></th>\n      <th></th>\n      <th></th>\n      <th></th>\n    </tr>\n  </thead>\n  <tbody>\n    <tr>\n      <th>2018-09-01 00:30:00</th>\n      <td>446.335250</td>\n      <td>5516.442</td>\n      <td>0</td>\n      <td>5638676.0</td>\n      <td>NaN</td>\n    </tr>\n    <tr>\n      <th>2018-09-01 01:00:00</th>\n      <td>422.275525</td>\n      <td>5410.561</td>\n      <td>0</td>\n      <td>5638676.0</td>\n      <td>NaN</td>\n    </tr>\n    <tr>\n      <th>2018-09-01 01:30:00</th>\n      <td>419.678168</td>\n      <td>5280.854</td>\n      <td>0</td>\n      <td>5638676.0</td>\n      <td>NaN</td>\n    </tr>\n    <tr>\n      <th>2018-09-01 02:00:00</th>\n      <td>441.322807</td>\n      <td>5197.666</td>\n      <td>0</td>\n      <td>5638676.0</td>\n      <td>NaN</td>\n    </tr>\n    <tr>\n      <th>2018-09-01 02:30:00</th>\n      <td>432.209275</td>\n      <td>5130.163</td>\n      <td>0</td>\n      <td>5638676.0</td>\n      <td>NaN</td>\n    </tr>\n    <tr>\n      <th>...</th>\n      <td>...</td>\n      <td>...</td>\n      <td>...</td>\n      <td>...</td>\n      <td>...</td>\n    </tr>\n    <tr>\n      <th>2021-09-30 22:00:00</th>\n      <td>467.654088</td>\n      <td>6312.974</td>\n      <td>0</td>\n      <td>5453566.0</td>\n      <td>NaN</td>\n    </tr>\n    <tr>\n      <th>2021-09-30 22:30:00</th>\n      <td>433.816490</td>\n      <td>6159.167</td>\n      <td>0</td>\n      <td>5453566.0</td>\n      <td>NaN</td>\n    </tr>\n    <tr>\n      <th>2021-09-30 23:00:00</th>\n      <td>442.836916</td>\n      <td>6016.091</td>\n      <td>0</td>\n      <td>5453566.0</td>\n      <td>NaN</td>\n    </tr>\n    <tr>\n      <th>2021-09-30 23:30:00</th>\n      <td>440.768819</td>\n      <td>5883.262</td>\n      <td>0</td>\n      <td>5453566.0</td>\n      <td>NaN</td>\n    </tr>\n    <tr>\n      <th>2021-10-01 00:00:00</th>\n      <td>448.978175</td>\n      <td>5747.885</td>\n      <td>0</td>\n      <td>5453566.0</td>\n      <td>NaN</td>\n    </tr>\n  </tbody>\n</table>\n<p>5760 rows × 5 columns</p>\n</div>"
     },
     "execution_count": 71,
     "metadata": {},
     "output_type": "execute_result"
    }
   ],
   "source": [
    "final_df = merged_df.merge(holiday_df, left_index=True,right_index=True)\n",
    "final_df"
   ],
   "metadata": {
    "collapsed": false,
    "ExecuteTime": {
     "end_time": "2023-08-01T07:22:43.964921200Z",
     "start_time": "2023-08-01T07:22:43.951991200Z"
    }
   },
   "id": "9ff2b78de4ba497b"
  },
  {
   "cell_type": "code",
   "execution_count": 74,
   "outputs": [
    {
     "data": {
      "text/plain": "                     USEP (Milligrams of gold/MWh)  DEMAND (MW)  SOLAR(MW)  \\\nDateTime                                                                     \n2018-09-01 00:30:00                     446.335250     5516.442          0   \n2018-09-01 01:00:00                     422.275525     5410.561          0   \n2018-09-01 01:30:00                     419.678168     5280.854          0   \n2018-09-01 02:00:00                     441.322807     5197.666          0   \n2018-09-01 02:30:00                     432.209275     5130.163          0   \n...                                            ...          ...        ...   \n2021-09-30 22:00:00                     467.654088     6312.974          0   \n2021-09-30 22:30:00                     433.816490     6159.167          0   \n2021-09-30 23:00:00                     442.836916     6016.091          0   \n2021-09-30 23:30:00                     440.768819     5883.262          0   \n2021-10-01 00:00:00                     448.978175     5747.885          0   \n\n                     Total Population (Number)  Holiday  \nDateTime                                                 \n2018-09-01 00:30:00                  5638676.0        1  \n2018-09-01 01:00:00                  5638676.0        1  \n2018-09-01 01:30:00                  5638676.0        1  \n2018-09-01 02:00:00                  5638676.0        1  \n2018-09-01 02:30:00                  5638676.0        1  \n...                                        ...      ...  \n2021-09-30 22:00:00                  5453566.0        1  \n2021-09-30 22:30:00                  5453566.0        1  \n2021-09-30 23:00:00                  5453566.0        1  \n2021-09-30 23:30:00                  5453566.0        1  \n2021-10-01 00:00:00                  5453566.0        1  \n\n[5760 rows x 5 columns]",
      "text/html": "<div>\n<style scoped>\n    .dataframe tbody tr th:only-of-type {\n        vertical-align: middle;\n    }\n\n    .dataframe tbody tr th {\n        vertical-align: top;\n    }\n\n    .dataframe thead th {\n        text-align: right;\n    }\n</style>\n<table border=\"1\" class=\"dataframe\">\n  <thead>\n    <tr style=\"text-align: right;\">\n      <th></th>\n      <th>USEP (Milligrams of gold/MWh)</th>\n      <th>DEMAND (MW)</th>\n      <th>SOLAR(MW)</th>\n      <th>Total Population (Number)</th>\n      <th>Holiday</th>\n    </tr>\n    <tr>\n      <th>DateTime</th>\n      <th></th>\n      <th></th>\n      <th></th>\n      <th></th>\n      <th></th>\n    </tr>\n  </thead>\n  <tbody>\n    <tr>\n      <th>2018-09-01 00:30:00</th>\n      <td>446.335250</td>\n      <td>5516.442</td>\n      <td>0</td>\n      <td>5638676.0</td>\n      <td>1</td>\n    </tr>\n    <tr>\n      <th>2018-09-01 01:00:00</th>\n      <td>422.275525</td>\n      <td>5410.561</td>\n      <td>0</td>\n      <td>5638676.0</td>\n      <td>1</td>\n    </tr>\n    <tr>\n      <th>2018-09-01 01:30:00</th>\n      <td>419.678168</td>\n      <td>5280.854</td>\n      <td>0</td>\n      <td>5638676.0</td>\n      <td>1</td>\n    </tr>\n    <tr>\n      <th>2018-09-01 02:00:00</th>\n      <td>441.322807</td>\n      <td>5197.666</td>\n      <td>0</td>\n      <td>5638676.0</td>\n      <td>1</td>\n    </tr>\n    <tr>\n      <th>2018-09-01 02:30:00</th>\n      <td>432.209275</td>\n      <td>5130.163</td>\n      <td>0</td>\n      <td>5638676.0</td>\n      <td>1</td>\n    </tr>\n    <tr>\n      <th>...</th>\n      <td>...</td>\n      <td>...</td>\n      <td>...</td>\n      <td>...</td>\n      <td>...</td>\n    </tr>\n    <tr>\n      <th>2021-09-30 22:00:00</th>\n      <td>467.654088</td>\n      <td>6312.974</td>\n      <td>0</td>\n      <td>5453566.0</td>\n      <td>1</td>\n    </tr>\n    <tr>\n      <th>2021-09-30 22:30:00</th>\n      <td>433.816490</td>\n      <td>6159.167</td>\n      <td>0</td>\n      <td>5453566.0</td>\n      <td>1</td>\n    </tr>\n    <tr>\n      <th>2021-09-30 23:00:00</th>\n      <td>442.836916</td>\n      <td>6016.091</td>\n      <td>0</td>\n      <td>5453566.0</td>\n      <td>1</td>\n    </tr>\n    <tr>\n      <th>2021-09-30 23:30:00</th>\n      <td>440.768819</td>\n      <td>5883.262</td>\n      <td>0</td>\n      <td>5453566.0</td>\n      <td>1</td>\n    </tr>\n    <tr>\n      <th>2021-10-01 00:00:00</th>\n      <td>448.978175</td>\n      <td>5747.885</td>\n      <td>0</td>\n      <td>5453566.0</td>\n      <td>1</td>\n    </tr>\n  </tbody>\n</table>\n<p>5760 rows × 5 columns</p>\n</div>"
     },
     "execution_count": 74,
     "metadata": {},
     "output_type": "execute_result"
    }
   ],
   "source": [
    "# Make all holiday values 1\n",
    "final_df[\"Holiday\"] = final_df[\"Holiday\"].apply(lambda x: 0 if x == np.NaN else 1)"
   ],
   "metadata": {
    "collapsed": false,
    "ExecuteTime": {
     "end_time": "2023-08-01T07:26:58.378356500Z",
     "start_time": "2023-08-01T07:26:58.364743400Z"
    }
   },
   "id": "16ad890b403c7d9b"
  },
  {
   "cell_type": "code",
   "execution_count": 75,
   "outputs": [
    {
     "data": {
      "text/plain": "                     USEP (Milligrams of gold/MWh)  DEMAND (MW)  SOLAR(MW)  \\\nDateTime                                                                     \n2018-09-01 00:30:00                     446.335250     5516.442          0   \n2018-09-01 01:00:00                     422.275525     5410.561          0   \n2018-09-01 01:30:00                     419.678168     5280.854          0   \n2018-09-01 02:00:00                     441.322807     5197.666          0   \n2018-09-01 02:30:00                     432.209275     5130.163          0   \n...                                            ...          ...        ...   \n2021-09-30 22:00:00                     467.654088     6312.974          0   \n2021-09-30 22:30:00                     433.816490     6159.167          0   \n2021-09-30 23:00:00                     442.836916     6016.091          0   \n2021-09-30 23:30:00                     440.768819     5883.262          0   \n2021-10-01 00:00:00                     448.978175     5747.885          0   \n\n                     Total Population (Number)  Holiday       Day  \nDateTime                                                           \n2018-09-01 00:30:00                  5638676.0        1  Saturday  \n2018-09-01 01:00:00                  5638676.0        1  Saturday  \n2018-09-01 01:30:00                  5638676.0        1  Saturday  \n2018-09-01 02:00:00                  5638676.0        1  Saturday  \n2018-09-01 02:30:00                  5638676.0        1  Saturday  \n...                                        ...      ...       ...  \n2021-09-30 22:00:00                  5453566.0        1  Thursday  \n2021-09-30 22:30:00                  5453566.0        1  Thursday  \n2021-09-30 23:00:00                  5453566.0        1  Thursday  \n2021-09-30 23:30:00                  5453566.0        1  Thursday  \n2021-10-01 00:00:00                  5453566.0        1    Friday  \n\n[5760 rows x 6 columns]",
      "text/html": "<div>\n<style scoped>\n    .dataframe tbody tr th:only-of-type {\n        vertical-align: middle;\n    }\n\n    .dataframe tbody tr th {\n        vertical-align: top;\n    }\n\n    .dataframe thead th {\n        text-align: right;\n    }\n</style>\n<table border=\"1\" class=\"dataframe\">\n  <thead>\n    <tr style=\"text-align: right;\">\n      <th></th>\n      <th>USEP (Milligrams of gold/MWh)</th>\n      <th>DEMAND (MW)</th>\n      <th>SOLAR(MW)</th>\n      <th>Total Population (Number)</th>\n      <th>Holiday</th>\n      <th>Day</th>\n    </tr>\n    <tr>\n      <th>DateTime</th>\n      <th></th>\n      <th></th>\n      <th></th>\n      <th></th>\n      <th></th>\n      <th></th>\n    </tr>\n  </thead>\n  <tbody>\n    <tr>\n      <th>2018-09-01 00:30:00</th>\n      <td>446.335250</td>\n      <td>5516.442</td>\n      <td>0</td>\n      <td>5638676.0</td>\n      <td>1</td>\n      <td>Saturday</td>\n    </tr>\n    <tr>\n      <th>2018-09-01 01:00:00</th>\n      <td>422.275525</td>\n      <td>5410.561</td>\n      <td>0</td>\n      <td>5638676.0</td>\n      <td>1</td>\n      <td>Saturday</td>\n    </tr>\n    <tr>\n      <th>2018-09-01 01:30:00</th>\n      <td>419.678168</td>\n      <td>5280.854</td>\n      <td>0</td>\n      <td>5638676.0</td>\n      <td>1</td>\n      <td>Saturday</td>\n    </tr>\n    <tr>\n      <th>2018-09-01 02:00:00</th>\n      <td>441.322807</td>\n      <td>5197.666</td>\n      <td>0</td>\n      <td>5638676.0</td>\n      <td>1</td>\n      <td>Saturday</td>\n    </tr>\n    <tr>\n      <th>2018-09-01 02:30:00</th>\n      <td>432.209275</td>\n      <td>5130.163</td>\n      <td>0</td>\n      <td>5638676.0</td>\n      <td>1</td>\n      <td>Saturday</td>\n    </tr>\n    <tr>\n      <th>...</th>\n      <td>...</td>\n      <td>...</td>\n      <td>...</td>\n      <td>...</td>\n      <td>...</td>\n      <td>...</td>\n    </tr>\n    <tr>\n      <th>2021-09-30 22:00:00</th>\n      <td>467.654088</td>\n      <td>6312.974</td>\n      <td>0</td>\n      <td>5453566.0</td>\n      <td>1</td>\n      <td>Thursday</td>\n    </tr>\n    <tr>\n      <th>2021-09-30 22:30:00</th>\n      <td>433.816490</td>\n      <td>6159.167</td>\n      <td>0</td>\n      <td>5453566.0</td>\n      <td>1</td>\n      <td>Thursday</td>\n    </tr>\n    <tr>\n      <th>2021-09-30 23:00:00</th>\n      <td>442.836916</td>\n      <td>6016.091</td>\n      <td>0</td>\n      <td>5453566.0</td>\n      <td>1</td>\n      <td>Thursday</td>\n    </tr>\n    <tr>\n      <th>2021-09-30 23:30:00</th>\n      <td>440.768819</td>\n      <td>5883.262</td>\n      <td>0</td>\n      <td>5453566.0</td>\n      <td>1</td>\n      <td>Thursday</td>\n    </tr>\n    <tr>\n      <th>2021-10-01 00:00:00</th>\n      <td>448.978175</td>\n      <td>5747.885</td>\n      <td>0</td>\n      <td>5453566.0</td>\n      <td>1</td>\n      <td>Friday</td>\n    </tr>\n  </tbody>\n</table>\n<p>5760 rows × 6 columns</p>\n</div>"
     },
     "execution_count": 75,
     "metadata": {},
     "output_type": "execute_result"
    }
   ],
   "source": [
    "final_df[\"Day\"] = final_df.index.strftime(\"%A\")\n",
    "final_df"
   ],
   "metadata": {
    "collapsed": false,
    "ExecuteTime": {
     "end_time": "2023-08-01T07:28:45.624961200Z",
     "start_time": "2023-08-01T07:28:45.596450600Z"
    }
   },
   "id": "60aecfdb4a2e7b31"
  },
  {
   "cell_type": "code",
   "execution_count": 77,
   "outputs": [
    {
     "data": {
      "text/plain": "                     USEP (Milligrams of gold/MWh)  DEMAND (MW)  SOLAR(MW)  \\\nDateTime                                                                     \n2018-09-01 00:30:00                     446.335250     5516.442          0   \n2018-09-01 01:00:00                     422.275525     5410.561          0   \n2018-09-01 01:30:00                     419.678168     5280.854          0   \n2018-09-01 02:00:00                     441.322807     5197.666          0   \n2018-09-01 02:30:00                     432.209275     5130.163          0   \n...                                            ...          ...        ...   \n2021-09-30 22:00:00                     467.654088     6312.974          0   \n2021-09-30 22:30:00                     433.816490     6159.167          0   \n2021-09-30 23:00:00                     442.836916     6016.091          0   \n2021-09-30 23:30:00                     440.768819     5883.262          0   \n2021-10-01 00:00:00                     448.978175     5747.885          0   \n\n                     Total Population (Number)  Holiday  Day  \nDateTime                                                      \n2018-09-01 00:30:00                  5638676.0        1    6  \n2018-09-01 01:00:00                  5638676.0        1    6  \n2018-09-01 01:30:00                  5638676.0        1    6  \n2018-09-01 02:00:00                  5638676.0        1    6  \n2018-09-01 02:30:00                  5638676.0        1    6  \n...                                        ...      ...  ...  \n2021-09-30 22:00:00                  5453566.0        1    4  \n2021-09-30 22:30:00                  5453566.0        1    4  \n2021-09-30 23:00:00                  5453566.0        1    4  \n2021-09-30 23:30:00                  5453566.0        1    4  \n2021-10-01 00:00:00                  5453566.0        1    5  \n\n[5760 rows x 6 columns]",
      "text/html": "<div>\n<style scoped>\n    .dataframe tbody tr th:only-of-type {\n        vertical-align: middle;\n    }\n\n    .dataframe tbody tr th {\n        vertical-align: top;\n    }\n\n    .dataframe thead th {\n        text-align: right;\n    }\n</style>\n<table border=\"1\" class=\"dataframe\">\n  <thead>\n    <tr style=\"text-align: right;\">\n      <th></th>\n      <th>USEP (Milligrams of gold/MWh)</th>\n      <th>DEMAND (MW)</th>\n      <th>SOLAR(MW)</th>\n      <th>Total Population (Number)</th>\n      <th>Holiday</th>\n      <th>Day</th>\n    </tr>\n    <tr>\n      <th>DateTime</th>\n      <th></th>\n      <th></th>\n      <th></th>\n      <th></th>\n      <th></th>\n      <th></th>\n    </tr>\n  </thead>\n  <tbody>\n    <tr>\n      <th>2018-09-01 00:30:00</th>\n      <td>446.335250</td>\n      <td>5516.442</td>\n      <td>0</td>\n      <td>5638676.0</td>\n      <td>1</td>\n      <td>6</td>\n    </tr>\n    <tr>\n      <th>2018-09-01 01:00:00</th>\n      <td>422.275525</td>\n      <td>5410.561</td>\n      <td>0</td>\n      <td>5638676.0</td>\n      <td>1</td>\n      <td>6</td>\n    </tr>\n    <tr>\n      <th>2018-09-01 01:30:00</th>\n      <td>419.678168</td>\n      <td>5280.854</td>\n      <td>0</td>\n      <td>5638676.0</td>\n      <td>1</td>\n      <td>6</td>\n    </tr>\n    <tr>\n      <th>2018-09-01 02:00:00</th>\n      <td>441.322807</td>\n      <td>5197.666</td>\n      <td>0</td>\n      <td>5638676.0</td>\n      <td>1</td>\n      <td>6</td>\n    </tr>\n    <tr>\n      <th>2018-09-01 02:30:00</th>\n      <td>432.209275</td>\n      <td>5130.163</td>\n      <td>0</td>\n      <td>5638676.0</td>\n      <td>1</td>\n      <td>6</td>\n    </tr>\n    <tr>\n      <th>...</th>\n      <td>...</td>\n      <td>...</td>\n      <td>...</td>\n      <td>...</td>\n      <td>...</td>\n      <td>...</td>\n    </tr>\n    <tr>\n      <th>2021-09-30 22:00:00</th>\n      <td>467.654088</td>\n      <td>6312.974</td>\n      <td>0</td>\n      <td>5453566.0</td>\n      <td>1</td>\n      <td>4</td>\n    </tr>\n    <tr>\n      <th>2021-09-30 22:30:00</th>\n      <td>433.816490</td>\n      <td>6159.167</td>\n      <td>0</td>\n      <td>5453566.0</td>\n      <td>1</td>\n      <td>4</td>\n    </tr>\n    <tr>\n      <th>2021-09-30 23:00:00</th>\n      <td>442.836916</td>\n      <td>6016.091</td>\n      <td>0</td>\n      <td>5453566.0</td>\n      <td>1</td>\n      <td>4</td>\n    </tr>\n    <tr>\n      <th>2021-09-30 23:30:00</th>\n      <td>440.768819</td>\n      <td>5883.262</td>\n      <td>0</td>\n      <td>5453566.0</td>\n      <td>1</td>\n      <td>4</td>\n    </tr>\n    <tr>\n      <th>2021-10-01 00:00:00</th>\n      <td>448.978175</td>\n      <td>5747.885</td>\n      <td>0</td>\n      <td>5453566.0</td>\n      <td>1</td>\n      <td>5</td>\n    </tr>\n  </tbody>\n</table>\n<p>5760 rows × 6 columns</p>\n</div>"
     },
     "execution_count": 77,
     "metadata": {},
     "output_type": "execute_result"
    }
   ],
   "source": [
    "# Map the days\n",
    "final_df['Day'] = final_df['Day'].map(day_map)\n"
   ],
   "metadata": {
    "collapsed": false,
    "ExecuteTime": {
     "end_time": "2023-08-01T07:31:15.347641100Z",
     "start_time": "2023-08-01T07:31:15.329511300Z"
    }
   },
   "id": "562f49d7af0d87c9"
  },
  {
   "cell_type": "code",
   "execution_count": 78,
   "outputs": [],
   "source": [],
   "metadata": {
    "collapsed": false,
    "ExecuteTime": {
     "end_time": "2023-08-01T07:32:24.984806300Z",
     "start_time": "2023-08-01T07:32:24.978510300Z"
    }
   },
   "id": "8896af666e2fd7c2"
  },
  {
   "cell_type": "markdown",
   "source": [
    "# Write to final df csv for now"
   ],
   "metadata": {
    "collapsed": false
   },
   "id": "77c158d6372b352c"
  },
  {
   "cell_type": "code",
   "execution_count": 79,
   "outputs": [],
   "source": [
    "final_df.to_csv(\"Final_dataset.csv\")"
   ],
   "metadata": {
    "collapsed": false,
    "ExecuteTime": {
     "end_time": "2023-08-01T07:32:30.882197500Z",
     "start_time": "2023-08-01T07:32:30.857618100Z"
    }
   },
   "id": "4b3258017a78d8ab"
  },
  {
   "cell_type": "code",
   "execution_count": 80,
   "outputs": [
    {
     "data": {
      "text/plain": "                     USEP (Milligrams of gold/MWh)  DEMAND (MW)  \\\nDateTime                                                          \n2018-09-01 00:30:00                     446.335250     5516.442   \n2018-09-01 01:00:00                     422.275525     5410.561   \n2018-09-01 01:30:00                     419.678168     5280.854   \n2018-09-01 02:00:00                     441.322807     5197.666   \n2018-09-01 02:30:00                     432.209275     5130.163   \n...                                            ...          ...   \n2021-09-30 22:00:00                     467.654088     6312.974   \n2021-09-30 22:30:00                     433.816490     6159.167   \n2021-09-30 23:00:00                     442.836916     6016.091   \n2021-09-30 23:30:00                     440.768819     5883.262   \n2021-10-01 00:00:00                     448.978175     5747.885   \n\n                     Total Population (Number)  Holiday  Day  \nDateTime                                                      \n2018-09-01 00:30:00                  5638676.0        1    6  \n2018-09-01 01:00:00                  5638676.0        1    6  \n2018-09-01 01:30:00                  5638676.0        1    6  \n2018-09-01 02:00:00                  5638676.0        1    6  \n2018-09-01 02:30:00                  5638676.0        1    6  \n...                                        ...      ...  ...  \n2021-09-30 22:00:00                  5453566.0        1    4  \n2021-09-30 22:30:00                  5453566.0        1    4  \n2021-09-30 23:00:00                  5453566.0        1    4  \n2021-09-30 23:30:00                  5453566.0        1    4  \n2021-10-01 00:00:00                  5453566.0        1    5  \n\n[5760 rows x 5 columns]",
      "text/html": "<div>\n<style scoped>\n    .dataframe tbody tr th:only-of-type {\n        vertical-align: middle;\n    }\n\n    .dataframe tbody tr th {\n        vertical-align: top;\n    }\n\n    .dataframe thead th {\n        text-align: right;\n    }\n</style>\n<table border=\"1\" class=\"dataframe\">\n  <thead>\n    <tr style=\"text-align: right;\">\n      <th></th>\n      <th>USEP (Milligrams of gold/MWh)</th>\n      <th>DEMAND (MW)</th>\n      <th>Total Population (Number)</th>\n      <th>Holiday</th>\n      <th>Day</th>\n    </tr>\n    <tr>\n      <th>DateTime</th>\n      <th></th>\n      <th></th>\n      <th></th>\n      <th></th>\n      <th></th>\n    </tr>\n  </thead>\n  <tbody>\n    <tr>\n      <th>2018-09-01 00:30:00</th>\n      <td>446.335250</td>\n      <td>5516.442</td>\n      <td>5638676.0</td>\n      <td>1</td>\n      <td>6</td>\n    </tr>\n    <tr>\n      <th>2018-09-01 01:00:00</th>\n      <td>422.275525</td>\n      <td>5410.561</td>\n      <td>5638676.0</td>\n      <td>1</td>\n      <td>6</td>\n    </tr>\n    <tr>\n      <th>2018-09-01 01:30:00</th>\n      <td>419.678168</td>\n      <td>5280.854</td>\n      <td>5638676.0</td>\n      <td>1</td>\n      <td>6</td>\n    </tr>\n    <tr>\n      <th>2018-09-01 02:00:00</th>\n      <td>441.322807</td>\n      <td>5197.666</td>\n      <td>5638676.0</td>\n      <td>1</td>\n      <td>6</td>\n    </tr>\n    <tr>\n      <th>2018-09-01 02:30:00</th>\n      <td>432.209275</td>\n      <td>5130.163</td>\n      <td>5638676.0</td>\n      <td>1</td>\n      <td>6</td>\n    </tr>\n    <tr>\n      <th>...</th>\n      <td>...</td>\n      <td>...</td>\n      <td>...</td>\n      <td>...</td>\n      <td>...</td>\n    </tr>\n    <tr>\n      <th>2021-09-30 22:00:00</th>\n      <td>467.654088</td>\n      <td>6312.974</td>\n      <td>5453566.0</td>\n      <td>1</td>\n      <td>4</td>\n    </tr>\n    <tr>\n      <th>2021-09-30 22:30:00</th>\n      <td>433.816490</td>\n      <td>6159.167</td>\n      <td>5453566.0</td>\n      <td>1</td>\n      <td>4</td>\n    </tr>\n    <tr>\n      <th>2021-09-30 23:00:00</th>\n      <td>442.836916</td>\n      <td>6016.091</td>\n      <td>5453566.0</td>\n      <td>1</td>\n      <td>4</td>\n    </tr>\n    <tr>\n      <th>2021-09-30 23:30:00</th>\n      <td>440.768819</td>\n      <td>5883.262</td>\n      <td>5453566.0</td>\n      <td>1</td>\n      <td>4</td>\n    </tr>\n    <tr>\n      <th>2021-10-01 00:00:00</th>\n      <td>448.978175</td>\n      <td>5747.885</td>\n      <td>5453566.0</td>\n      <td>1</td>\n      <td>5</td>\n    </tr>\n  </tbody>\n</table>\n<p>5760 rows × 5 columns</p>\n</div>"
     },
     "execution_count": 80,
     "metadata": {},
     "output_type": "execute_result"
    }
   ],
   "source": [],
   "metadata": {
    "collapsed": false,
    "ExecuteTime": {
     "end_time": "2023-08-01T07:33:16.710750500Z",
     "start_time": "2023-08-01T07:33:16.703333500Z"
    }
   },
   "id": "f60bb63d4d9f3102"
  }
 ],
 "metadata": {
  "kernelspec": {
   "display_name": "Python 3",
   "language": "python",
   "name": "python3"
  },
  "language_info": {
   "codemirror_mode": {
    "name": "ipython",
    "version": 2
   },
   "file_extension": ".py",
   "mimetype": "text/x-python",
   "name": "python",
   "nbconvert_exporter": "python",
   "pygments_lexer": "ipython2",
   "version": "2.7.6"
  }
 },
 "nbformat": 4,
 "nbformat_minor": 5
}
