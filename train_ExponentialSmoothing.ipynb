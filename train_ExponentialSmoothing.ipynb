{
 "cells": [
  {
   "cell_type": "code",
   "execution_count": 1,
   "outputs": [],
   "source": [
    "import pandas as pd\n",
    "from statsmodels.tsa.holtwinters import ExponentialSmoothing\n",
    "import matplotlib.pyplot as plt\n",
    "from sklearn.metrics import mean_squared_error\n",
    "import joblib\n",
    "import warnings\n",
    "import pandas as pd\n",
    "from statsmodels.tools.sm_exceptions import ConvergenceWarning\n",
    "from statsmodels.tsa.holtwinters import ExponentialSmoothing\n",
    "from sklearn.metrics import mean_squared_error\n",
    "import warnings"
   ],
   "metadata": {
    "collapsed": false,
    "ExecuteTime": {
     "end_time": "2023-08-14T12:33:48.735856100Z",
     "start_time": "2023-08-14T12:33:36.803854300Z"
    }
   },
   "id": "73b7cf0c39befe8f"
  },
  {
   "cell_type": "code",
   "execution_count": 45,
   "outputs": [],
   "source": [
    "def reset():\n",
    "    global Model_results_df\n",
    "    Model_results_df = pd.read_csv(\"Model_results.csv\")\n",
    "    Model_results_df\n",
    "    \n",
    "reset()"
   ],
   "metadata": {
    "collapsed": false,
    "ExecuteTime": {
     "end_time": "2023-08-14T12:53:26.724825Z",
     "start_time": "2023-08-14T12:53:26.719805500Z"
    }
   },
   "id": "74415f95a4ae2a8a"
  },
  {
   "cell_type": "code",
   "execution_count": 3,
   "outputs": [
    {
     "name": "stdout",
     "output_type": "stream",
     "text": [
      "                     USEP (Milligrams of gold/MWh)  DEMAND (MW)  \\\n",
      "2018-09-01 00:00:00                       0.000000        0.000   \n",
      "2018-09-01 00:30:00                     446.335250     5516.442   \n",
      "2018-09-01 01:00:00                     422.275525     5410.561   \n",
      "2018-09-01 01:30:00                     419.678168     5280.854   \n",
      "2018-09-01 02:00:00                     441.322807     5197.666   \n",
      "...                                            ...          ...   \n",
      "2021-09-29 22:00:00                     708.455791     6512.807   \n",
      "2021-09-29 22:30:00                     597.321893     6351.307   \n",
      "2021-09-29 23:00:00                     597.458757     6203.728   \n",
      "2021-09-29 23:30:00                     597.413136     6052.382   \n",
      "2021-09-30 00:00:00                     575.239170     5927.635   \n",
      "\n",
      "                     Total Population (Number)  Holiday  Day  \n",
      "2018-09-01 00:00:00                        0.0      0.0  0.0  \n",
      "2018-09-01 00:30:00                  5638676.0      1.0  6.0  \n",
      "2018-09-01 01:00:00                  5638676.0      1.0  6.0  \n",
      "2018-09-01 01:30:00                  5638676.0      1.0  6.0  \n",
      "2018-09-01 02:00:00                  5638676.0      1.0  6.0  \n",
      "...                                        ...      ...  ...  \n",
      "2021-09-29 22:00:00                  5453566.0      1.0  3.0  \n",
      "2021-09-29 22:30:00                  5453566.0      1.0  3.0  \n",
      "2021-09-29 23:00:00                  5453566.0      1.0  3.0  \n",
      "2021-09-29 23:30:00                  5453566.0      1.0  3.0  \n",
      "2021-09-30 00:00:00                  5453566.0      1.0  4.0  \n",
      "\n",
      "[54001 rows x 5 columns]\n"
     ]
    }
   ],
   "source": [
    "# Load your dataset\n",
    "raw_data = pd.read_csv(\"Final_dataset.csv\", parse_dates=[\"DateTime\"], index_col=\"DateTime\")\n",
    "\n",
    "# Create a date range covering the desired time period\n",
    "start_date = \"2018-09-01\"\n",
    "end_date = \"2021-09-30\"\n",
    "freq = \"30T\"  # 30 minutes frequency\n",
    "date_range = pd.date_range(start=start_date, end=end_date, freq=freq)\n",
    "\n",
    "# Create a DataFrame with the date range as index\n",
    "data = pd.DataFrame(index=date_range)\n",
    "\n",
    "# Load your dataset and merge with the date range DataFrame\n",
    "data = data.merge(raw_data, how=\"left\", left_index=True, right_index=True)\n",
    "data.fillna(0, inplace=True)\n",
    "\n",
    "\n",
    "data\n"
   ],
   "metadata": {
    "collapsed": false,
    "ExecuteTime": {
     "end_time": "2023-08-14T12:34:14.824585Z",
     "start_time": "2023-08-14T12:34:14.790861700Z"
    }
   },
   "id": "initial_id"
  },
  {
   "cell_type": "code",
   "execution_count": 95,
   "outputs": [
    {
     "data": {
      "text/plain": "                 1              2              3              4\n0.1  428842.965295  357344.339591  288971.340433  232993.209264\n0.2   25627.652756    3263.660496    5463.263090   35195.216443\n0.3     107.161858   12931.958004   61019.581018  145543.575894\n0.4   11625.246236   60350.153219  153573.889850  291033.329335\n0.5   24914.388265   89729.269999  202088.168638  361067.948543",
      "text/html": "<div>\n<style scoped>\n    .dataframe tbody tr th:only-of-type {\n        vertical-align: middle;\n    }\n\n    .dataframe tbody tr th {\n        vertical-align: top;\n    }\n\n    .dataframe thead th {\n        text-align: right;\n    }\n</style>\n<table border=\"1\" class=\"dataframe\">\n  <thead>\n    <tr style=\"text-align: right;\">\n      <th></th>\n      <th>1</th>\n      <th>2</th>\n      <th>3</th>\n      <th>4</th>\n    </tr>\n  </thead>\n  <tbody>\n    <tr>\n      <th>0.1</th>\n      <td>428842.965295</td>\n      <td>357344.339591</td>\n      <td>288971.340433</td>\n      <td>232993.209264</td>\n    </tr>\n    <tr>\n      <th>0.2</th>\n      <td>25627.652756</td>\n      <td>3263.660496</td>\n      <td>5463.263090</td>\n      <td>35195.216443</td>\n    </tr>\n    <tr>\n      <th>0.3</th>\n      <td>107.161858</td>\n      <td>12931.958004</td>\n      <td>61019.581018</td>\n      <td>145543.575894</td>\n    </tr>\n    <tr>\n      <th>0.4</th>\n      <td>11625.246236</td>\n      <td>60350.153219</td>\n      <td>153573.889850</td>\n      <td>291033.329335</td>\n    </tr>\n    <tr>\n      <th>0.5</th>\n      <td>24914.388265</td>\n      <td>89729.269999</td>\n      <td>202088.168638</td>\n      <td>361067.948543</td>\n    </tr>\n  </tbody>\n</table>\n</div>"
     },
     "execution_count": 95,
     "metadata": {},
     "output_type": "execute_result"
    }
   ],
   "source": [
    "\n",
    "# Mute warnings from a specific module\n",
    "warnings.filterwarnings(\"ignore\", category=ConvergenceWarning, module=\"statsmodels\")\n",
    "\n",
    "\n",
    "# Create a DataFrame to store MSE values for different alpha values and forecast steps\n",
    "forcast_steps_to_MSE_df = []\n",
    "\n",
    "# Iterate through different alpha values\n",
    "alpha_values = [0.1, 0.2, 0.3, 0.4, 0.5]\n",
    "for alpha in alpha_values:\n",
    "    # Fit Exponential Smoothing model\n",
    "    model = ExponentialSmoothing(data['DEMAND (MW)'], seasonal=None, trend='add', dates=data.index)\n",
    "    model_fit = model.fit(smoothing_level=alpha)\n",
    "    \n",
    "    # Calculate MSE values for different forecast steps\n",
    "    mse_values = []\n",
    "    for i in range(1, 5):\n",
    "        # Make forecasts\n",
    "        forecast_steps = i\n",
    "        forecast = model_fit.forecast(steps=forecast_steps)\n",
    "        \n",
    "        # Calculate Mean Squared Error\n",
    "        actual_values = data['DEMAND (MW)'][-forecast_steps:]\n",
    "        mse = mean_squared_error(actual_values, forecast)\n",
    "        \n",
    "        mse_values.append(mse)\n",
    "    \n",
    "    forcast_steps_to_MSE_df.append(mse_values)\n",
    "\n",
    "# Create a DataFrame from the list of lists with MSE values\n",
    "forcast_steps_to_MSE_df = pd.DataFrame(forcast_steps_to_MSE_df, index=alpha_values, columns=range(1, 5))\n",
    "\n",
    "# Restore default warning behavior\n",
    "warnings.resetwarnings()\n",
    "\n",
    "forcast_steps_to_MSE_df"
   ],
   "metadata": {
    "collapsed": false,
    "ExecuteTime": {
     "end_time": "2023-08-14T13:15:19.278161600Z",
     "start_time": "2023-08-14T13:15:13.902289800Z"
    }
   },
   "id": "e5599c899016084a"
  },
  {
   "cell_type": "code",
   "execution_count": 89,
   "outputs": [
    {
     "data": {
      "text/plain": "            MSE\n1  25627.652756\n2   3263.660496\n3   5463.263090\n4  35195.216443",
      "text/html": "<div>\n<style scoped>\n    .dataframe tbody tr th:only-of-type {\n        vertical-align: middle;\n    }\n\n    .dataframe tbody tr th {\n        vertical-align: top;\n    }\n\n    .dataframe thead th {\n        text-align: right;\n    }\n</style>\n<table border=\"1\" class=\"dataframe\">\n  <thead>\n    <tr style=\"text-align: right;\">\n      <th></th>\n      <th>MSE</th>\n    </tr>\n  </thead>\n  <tbody>\n    <tr>\n      <th>1</th>\n      <td>25627.652756</td>\n    </tr>\n    <tr>\n      <th>2</th>\n      <td>3263.660496</td>\n    </tr>\n    <tr>\n      <th>3</th>\n      <td>5463.263090</td>\n    </tr>\n    <tr>\n      <th>4</th>\n      <td>35195.216443</td>\n    </tr>\n  </tbody>\n</table>\n</div>"
     },
     "execution_count": 89,
     "metadata": {},
     "output_type": "execute_result"
    }
   ],
   "source": [],
   "metadata": {
    "collapsed": false,
    "ExecuteTime": {
     "end_time": "2023-08-14T13:06:05.939204600Z",
     "start_time": "2023-08-14T13:06:05.935118200Z"
    }
   },
   "id": "987349483ebdd5eb"
  },
  {
   "cell_type": "code",
   "execution_count": 28,
   "outputs": [
    {
     "data": {
      "text/plain": "                  Model  MSE (Lowest)   Lowest MSE step  \\\n0  ExponentialSmoothing                           25627   \n\n    forcast_steps_to_MSE_df  \n0                       NaN  ",
      "text/html": "<div>\n<style scoped>\n    .dataframe tbody tr th:only-of-type {\n        vertical-align: middle;\n    }\n\n    .dataframe tbody tr th {\n        vertical-align: top;\n    }\n\n    .dataframe thead th {\n        text-align: right;\n    }\n</style>\n<table border=\"1\" class=\"dataframe\">\n  <thead>\n    <tr style=\"text-align: right;\">\n      <th></th>\n      <th>Model</th>\n      <th>MSE (Lowest)</th>\n      <th>Lowest MSE step</th>\n      <th>forcast_steps_to_MSE_df</th>\n    </tr>\n  </thead>\n  <tbody>\n    <tr>\n      <th>0</th>\n      <td>ExponentialSmoothing</td>\n      <td></td>\n      <td>25627</td>\n      <td>NaN</td>\n    </tr>\n  </tbody>\n</table>\n</div>"
     },
     "execution_count": 28,
     "metadata": {},
     "output_type": "execute_result"
    }
   ],
   "source": [],
   "metadata": {
    "collapsed": false,
    "ExecuteTime": {
     "end_time": "2023-08-14T12:44:15.267133100Z",
     "start_time": "2023-08-14T12:44:15.258500500Z"
    }
   },
   "id": "910a9c8808152b43"
  },
  {
   "cell_type": "code",
   "execution_count": 115,
   "outputs": [],
   "source": [
    "reset()"
   ],
   "metadata": {
    "collapsed": false,
    "ExecuteTime": {
     "end_time": "2023-08-14T13:22:58.549421700Z",
     "start_time": "2023-08-14T13:22:58.533612500Z"
    }
   },
   "id": "aa2c7744b8b7ea5"
  },
  {
   "cell_type": "code",
   "execution_count": 116,
   "outputs": [],
   "source": [
    "# log MSE\n",
    "# Assign the minimum MSE value to the 'MSE (Lowest)' column\n",
    "Model_results_df.loc[Model_results_df['Model'] == \"ExponentialSmoothing\", 'MSE (Lowest)'] = forcast_steps_to_MSE_df.min().min()\n",
    "\n",
    "# Get the row and column index of the overall minimum value\n",
    "min_row, min_col = forcast_steps_to_MSE_df.stack().idxmin()\n",
    "\n",
    "# Assign the alpha value for the lowest MSE to the 'Lowest MSE alpha' column\n",
    "Model_results_df.loc[Model_results_df['Model'] == \"ExponentialSmoothing\", 'Lowest MSE step'] = min_col\n",
    "\n",
    "# Assign the step value for the lowest MSE to the 'Lowest MSE step' column\n",
    "Model_results_df.loc[Model_results_df['Model'] == \"ExponentialSmoothing\", 'Lowest MSE alpha'] = min_row\n",
    "\n",
    "\n"
   ],
   "metadata": {
    "collapsed": false,
    "ExecuteTime": {
     "end_time": "2023-08-14T13:22:58.825163500Z",
     "start_time": "2023-08-14T13:22:58.815818900Z"
    }
   },
   "id": "5368cca51c6200f2"
  },
  {
   "cell_type": "code",
   "execution_count": 118,
   "outputs": [
    {
     "data": {
      "text/plain": "                  Model  MSE (Lowest)  Lowest MSE step  Lowest MSE alpha\n0  ExponentialSmoothing    107.161858              1.0               0.3",
      "text/html": "<div>\n<style scoped>\n    .dataframe tbody tr th:only-of-type {\n        vertical-align: middle;\n    }\n\n    .dataframe tbody tr th {\n        vertical-align: top;\n    }\n\n    .dataframe thead th {\n        text-align: right;\n    }\n</style>\n<table border=\"1\" class=\"dataframe\">\n  <thead>\n    <tr style=\"text-align: right;\">\n      <th></th>\n      <th>Model</th>\n      <th>MSE (Lowest)</th>\n      <th>Lowest MSE step</th>\n      <th>Lowest MSE alpha</th>\n    </tr>\n  </thead>\n  <tbody>\n    <tr>\n      <th>0</th>\n      <td>ExponentialSmoothing</td>\n      <td>107.161858</td>\n      <td>1.0</td>\n      <td>0.3</td>\n    </tr>\n  </tbody>\n</table>\n</div>"
     },
     "execution_count": 118,
     "metadata": {},
     "output_type": "execute_result"
    }
   ],
   "source": [
    "Model_results_df"
   ],
   "metadata": {
    "collapsed": false,
    "ExecuteTime": {
     "end_time": "2023-08-14T13:24:34.150883400Z",
     "start_time": "2023-08-14T13:24:34.119096400Z"
    }
   },
   "id": "29b6af131138897c"
  },
  {
   "cell_type": "code",
   "execution_count": 119,
   "outputs": [
    {
     "name": "stderr",
     "output_type": "stream",
     "text": [
      "C:\\Users\\thacu\\PycharmProjects\\Data_sci_pw\\venv\\Lib\\site-packages\\statsmodels\\tsa\\holtwinters\\model.py:917: ConvergenceWarning: Optimization failed to converge. Check mle_retvals.\n",
      "  warnings.warn(\n"
     ]
    }
   ],
   "source": [
    "model_fit = model.fit(smoothing_level= Model_results_df.loc[Model_results_df['Model'] == \"ExponentialSmoothing\", 'Lowest MSE alpha'])\n",
    "\n",
    "best_step = Model_results_df.loc[Model_results_df['Model'] == \"ExponentialSmoothing\", 'Lowest MSE step']"
   ],
   "metadata": {
    "collapsed": false,
    "ExecuteTime": {
     "end_time": "2023-08-14T13:26:36.862873500Z",
     "start_time": "2023-08-14T13:26:36.601504Z"
    }
   },
   "id": "1816d07f7ef33798"
  },
  {
   "cell_type": "code",
   "execution_count": 120,
   "outputs": [
    {
     "name": "stdout",
     "output_type": "stream",
     "text": [
      "Model saved as exponential_smoothing_model.pkl\n"
     ]
    }
   ],
   "source": [
    "# Save the trained model using joblib\n",
    "model_filename = 'exponential_smoothing_model.pkl'\n",
    "joblib.dump(model_fit, model_filename)\n",
    "joblib.dump(best_step, \"best_step_\"+model_filename )\n",
    "print(\"Model saved as\", model_filename)"
   ],
   "metadata": {
    "collapsed": false,
    "ExecuteTime": {
     "end_time": "2023-08-14T13:26:39.994893400Z",
     "start_time": "2023-08-14T13:26:39.981250Z"
    }
   },
   "id": "51dc3944d5105b47"
  },
  {
   "cell_type": "code",
   "execution_count": null,
   "outputs": [],
   "source": [],
   "metadata": {
    "collapsed": false
   },
   "id": "9c5275493d19131f"
  }
 ],
 "metadata": {
  "kernelspec": {
   "display_name": "Python 3",
   "language": "python",
   "name": "python3"
  },
  "language_info": {
   "codemirror_mode": {
    "name": "ipython",
    "version": 2
   },
   "file_extension": ".py",
   "mimetype": "text/x-python",
   "name": "python",
   "nbconvert_exporter": "python",
   "pygments_lexer": "ipython2",
   "version": "2.7.6"
  }
 },
 "nbformat": 4,
 "nbformat_minor": 5
}
