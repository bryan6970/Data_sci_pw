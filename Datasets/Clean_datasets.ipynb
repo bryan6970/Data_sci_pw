{
 "cells": [
  {
   "cell_type": "markdown",
   "source": [
    "Clean data"
   ],
   "metadata": {
    "collapsed": false
   }
  },
  {
   "cell_type": "code",
   "execution_count": 4,
   "outputs": [],
   "source": [
    "import pandas as pd"
   ],
   "metadata": {
    "collapsed": false
   }
  },
  {
   "cell_type": "code",
   "execution_count": 5,
   "outputs": [],
   "source": [
    "# Get limitations\n",
    "with open(r\"Cleaned_datasets\\limitations.txt\", \"r\") as f:\n",
    "    limitations = f.readlines()[-1].split(',')\n",
    "    start_date, end_date = [pd.to_datetime(date) for date in limitations]"
   ],
   "metadata": {
    "collapsed": false
   }
  },
  {
   "cell_type": "markdown",
   "source": [
    "Clean energy consumption dataset"
   ],
   "metadata": {
    "collapsed": false
   }
  },
  {
   "cell_type": "code",
   "execution_count": 6,
   "outputs": [],
   "source": [
    "energy_df = pd.read_csv(r\"C:\\Users\\wong2\\PycharmProjects\\Data_sci_pw\\Datasets\\Uncleaned_datasets\\energy_consumption.csv\")"
   ],
   "metadata": {
    "collapsed": false
   }
  },
  {
   "cell_type": "code",
   "execution_count": 7,
   "outputs": [
    {
     "name": "stdout",
     "output_type": "stream",
     "text": [
      "DataFrame head\n",
      "                    ds          y\n",
      "0  2012-02-06 00:00:00  4885.7671\n",
      "1  2012-02-06 00:30:00  4526.6826\n",
      "2  2012-02-06 01:00:00  4436.0894\n",
      "3  2012-02-06 01:30:00  4361.2412\n",
      "4  2012-02-06 02:00:00  4295.2305\n",
      "\n",
      "DataFrame tail\n",
      "                         ds            y\n",
      "193531  2023-02-19 21:30:00  6448.370941\n",
      "193532  2023-02-19 22:00:00  6376.849043\n",
      "193533  2023-02-19 22:30:00  6235.211282\n",
      "193534  2023-02-19 23:00:00  6103.995954\n",
      "193535  2023-02-19 23:30:00  5979.283868\n"
     ]
    }
   ],
   "source": [
    "print(f\"DataFrame head\\n{energy_df.head()}\\n\\nDataFrame tail\\n{energy_df.tail()}\")"
   ],
   "metadata": {
    "collapsed": false
   }
  },
  {
   "cell_type": "code",
   "execution_count": 8,
   "outputs": [],
   "source": [
    "# Convert ds column to datetime format\n",
    "energy_df['ds'] = pd.to_datetime(energy_df['ds'])"
   ],
   "metadata": {
    "collapsed": false
   }
  },
  {
   "cell_type": "code",
   "execution_count": 9,
   "outputs": [],
   "source": [
    "# Only get dates within limitations\n",
    "new_df = energy_df[(energy_df['ds'] >= start_date) & (energy_df['ds'] <= end_date)]"
   ],
   "metadata": {
    "collapsed": false
   }
  },
  {
   "cell_type": "code",
   "execution_count": 10,
   "outputs": [],
   "source": [
    "# Rename column\n",
    "new_df = new_df.rename(columns={'ds': 'datetime'})"
   ],
   "metadata": {
    "collapsed": false
   }
  },
  {
   "cell_type": "code",
   "execution_count": 11,
   "outputs": [],
   "source": [
    "# Write to csv\n",
    "new_df.to_csv(r\"C:\\Users\\wong2\\PycharmProjects\\Data_sci_pw\\Datasets\\Cleaned_datasets\\energy_consumption.csv\", index = False)"
   ],
   "metadata": {
    "collapsed": false
   }
  },
  {
   "cell_type": "markdown",
   "source": [
    "Clean holidays dataset"
   ],
   "metadata": {
    "collapsed": false
   }
  },
  {
   "cell_type": "code",
   "execution_count": 96,
   "outputs": [
    {
     "data": {
      "text/plain": "           Date        Day           Holiday\n0    2014-01-01  Wednesday    New Year's Day\n1    2014-01-31     Friday  Chinese New Year\n2    2014-02-01   Saturday  Chinese New Year\n3    2014-04-18     Friday       Good Friday\n4    2014-05-01   Thursday        Labour Day\n..          ...        ...               ...\n107  2022-02-02  Wednesday  Chinese New Year\n108  2022-02-01    Tuesday  Chinese New Year\n109  2022-01-03     Monday    New Year's Day\n110  2022-01-02     Sunday    New Year's Day\n111  2022-01-01   Saturday    New Year's Day\n\n[112 rows x 3 columns]",
      "text/html": "<div>\n<style scoped>\n    .dataframe tbody tr th:only-of-type {\n        vertical-align: middle;\n    }\n\n    .dataframe tbody tr th {\n        vertical-align: top;\n    }\n\n    .dataframe thead th {\n        text-align: right;\n    }\n</style>\n<table border=\"1\" class=\"dataframe\">\n  <thead>\n    <tr style=\"text-align: right;\">\n      <th></th>\n      <th>Date</th>\n      <th>Day</th>\n      <th>Holiday</th>\n    </tr>\n  </thead>\n  <tbody>\n    <tr>\n      <th>0</th>\n      <td>2014-01-01</td>\n      <td>Wednesday</td>\n      <td>New Year's Day</td>\n    </tr>\n    <tr>\n      <th>1</th>\n      <td>2014-01-31</td>\n      <td>Friday</td>\n      <td>Chinese New Year</td>\n    </tr>\n    <tr>\n      <th>2</th>\n      <td>2014-02-01</td>\n      <td>Saturday</td>\n      <td>Chinese New Year</td>\n    </tr>\n    <tr>\n      <th>3</th>\n      <td>2014-04-18</td>\n      <td>Friday</td>\n      <td>Good Friday</td>\n    </tr>\n    <tr>\n      <th>4</th>\n      <td>2014-05-01</td>\n      <td>Thursday</td>\n      <td>Labour Day</td>\n    </tr>\n    <tr>\n      <th>...</th>\n      <td>...</td>\n      <td>...</td>\n      <td>...</td>\n    </tr>\n    <tr>\n      <th>107</th>\n      <td>2022-02-02</td>\n      <td>Wednesday</td>\n      <td>Chinese New Year</td>\n    </tr>\n    <tr>\n      <th>108</th>\n      <td>2022-02-01</td>\n      <td>Tuesday</td>\n      <td>Chinese New Year</td>\n    </tr>\n    <tr>\n      <th>109</th>\n      <td>2022-01-03</td>\n      <td>Monday</td>\n      <td>New Year's Day</td>\n    </tr>\n    <tr>\n      <th>110</th>\n      <td>2022-01-02</td>\n      <td>Sunday</td>\n      <td>New Year's Day</td>\n    </tr>\n    <tr>\n      <th>111</th>\n      <td>2022-01-01</td>\n      <td>Saturday</td>\n      <td>New Year's Day</td>\n    </tr>\n  </tbody>\n</table>\n<p>112 rows × 3 columns</p>\n</div>"
     },
     "execution_count": 96,
     "metadata": {},
     "output_type": "execute_result"
    }
   ],
   "source": [
    "# Load dataset\n",
    "holiday_df = pd.read_csv(r\"C:\\Users\\wong2\\PycharmProjects\\Data_sci_pw\\Datasets\\Uncleaned_datasets\\holiday.csv\")"
   ],
   "metadata": {
    "collapsed": false
   }
  },
  {
   "cell_type": "code",
   "execution_count": 100,
   "outputs": [],
   "source": [
    "# Rename Date col to DateTime\n",
    "holiday_df = holiday_df.rename(columns={\"Date\": \"DateTime\"})"
   ],
   "metadata": {
    "collapsed": false
   }
  },
  {
   "cell_type": "code",
   "execution_count": 108,
   "outputs": [],
   "source": [
    "# Change format to datetime\n",
    "holiday_df['DateTime'] = pd.to_datetime(holiday_df[\"DateTime\"])"
   ],
   "metadata": {
    "collapsed": false
   }
  },
  {
   "cell_type": "code",
   "execution_count": 109,
   "outputs": [],
   "source": [
    "# Only get dates within limitations\n",
    "new_df = holiday_df[(holiday_df['DateTime'] >= start_date) & (holiday_df['DateTime'] <= end_date)]"
   ],
   "metadata": {
    "collapsed": false
   }
  },
  {
   "cell_type": "code",
   "execution_count": null,
   "outputs": [],
   "source": [
    "# Clean the day and holidays to a number"
   ],
   "metadata": {
    "collapsed": false
   }
  },
  {
   "cell_type": "code",
   "execution_count": 110,
   "outputs": [],
   "source": [
    "# Write to csv\n",
    "new_df.to_csv(r\"C:\\Users\\wong2\\PycharmProjects\\Data_sci_pw\\Datasets\\Cleaned_datasets\\holiday.csv\", index = False)"
   ],
   "metadata": {
    "collapsed": false
   }
  },
  {
   "cell_type": "markdown",
   "source": [
    "Merge amk, tuas, and changi datasets"
   ],
   "metadata": {
    "collapsed": false
   }
  },
  {
   "cell_type": "code",
   "execution_count": 66,
   "outputs": [],
   "source": [
    "# load dfs\n",
    "df_locationA = pd.read_csv(r\"C:\\Users\\wong2\\PycharmProjects\\Data_sci_pw\\Datasets\\Uncleaned_datasets\\angmokio.csv\")\n",
    "\n",
    "df_locationB= pd.read_csv(r\"C:\\Users\\wong2\\PycharmProjects\\Data_sci_pw\\Datasets\\Uncleaned_datasets\\changi.csv\")\n",
    "\n",
    "df_locationC= pd.read_csv(r\"C:\\Users\\wong2\\PycharmProjects\\Data_sci_pw\\Datasets\\Uncleaned_datasets\\tuassouth.csv\")"
   ],
   "metadata": {
    "collapsed": false
   }
  },
  {
   "cell_type": "code",
   "execution_count": 67,
   "outputs": [],
   "source": [
    "# Merge dfs\n",
    "merged_df = pd.concat([df_locationA, df_locationB, df_locationC])"
   ],
   "metadata": {
    "collapsed": false
   }
  },
  {
   "cell_type": "code",
   "execution_count": 68,
   "outputs": [],
   "source": [
    "# Ground the dfs and mean the vals like temp\n",
    "grouped_df = merged_df.groupby(['Year', 'Month', 'Day']).mean(numeric_only=True).reset_index()"
   ],
   "metadata": {
    "collapsed": false
   }
  },
  {
   "cell_type": "code",
   "execution_count": 74,
   "outputs": [
    {
     "data": {
      "text/plain": "      Year  Month  Day  Daily Rainfall Total (mm)  \\\n0     2014      1    1                   0.000000   \n1     2014      1    2                   0.000000   \n2     2014      1    3                  22.133333   \n3     2014      1    4                   6.133333   \n4     2014      1    5                   8.733333   \n...    ...    ...  ...                        ...   \n2552  2020     12   27                   3.666667   \n2553  2020     12   28                   3.200000   \n2554  2020     12   29                   2.333333   \n2555  2020     12   30                   0.066667   \n2556  2020     12   31                   9.266667   \n\n      Highest 30 min Rainfall (mm)  Highest 60 min Rainfall (mm)  \\\n0                         0.000000                      0.000000   \n1                         0.000000                      0.000000   \n2                        13.066667                     17.000000   \n3                         3.200000                      5.200000   \n4                         3.533333                      4.866667   \n...                            ...                           ...   \n2552                      3.266667                      3.666667   \n2553                      1.733333                      2.200000   \n2554                      2.000000                      2.066667   \n2555                      0.066667                      0.066667   \n2556                      5.733333                      6.800000   \n\n      Highest 120 min Rainfall (mm)  Mean Temperature (°C)  \\\n0                          0.000000              26.700000   \n1                          0.000000              27.300000   \n2                         20.266667              26.666667   \n3                          6.133333              26.666667   \n4                          7.066667              24.933333   \n...                             ...                    ...   \n2552                       3.666667              27.150000   \n2553                       2.266667              27.766667   \n2554                       2.133333              26.633333   \n2555                       0.066667              27.666667   \n2556                       9.266667              27.100000   \n\n      Maximum Temperature (°C)  Minimum Temperature (°C)  \\\n0                    29.200000                 24.833333   \n1                    31.100000                 24.933333   \n2                    30.566667                 24.333333   \n3                    30.900000                 24.566667   \n4                    26.333333                 23.500000   \n...                        ...                       ...   \n2552                 31.550000                 24.100000   \n2553                 31.866667                 25.600000   \n2554                 29.933333                 25.166667   \n2555                 31.433333                 25.233333   \n2556                 30.900000                 24.900000   \n\n      Mean Wind Speed (km/h)  Max Wind Speed (km/h)  \n0                   7.733333              27.366667  \n1                   8.833333              31.200000  \n2                   7.600000              45.000000  \n3                   5.766667              26.966667  \n4                   6.200000              24.000000  \n...                      ...                    ...  \n2552               11.400000              29.750000  \n2553               11.333333              38.166667  \n2554                7.400000              26.666667  \n2555                9.800000              33.333333  \n2556                9.833333              33.166667  \n\n[2557 rows x 12 columns]",
      "text/html": "<div>\n<style scoped>\n    .dataframe tbody tr th:only-of-type {\n        vertical-align: middle;\n    }\n\n    .dataframe tbody tr th {\n        vertical-align: top;\n    }\n\n    .dataframe thead th {\n        text-align: right;\n    }\n</style>\n<table border=\"1\" class=\"dataframe\">\n  <thead>\n    <tr style=\"text-align: right;\">\n      <th></th>\n      <th>Year</th>\n      <th>Month</th>\n      <th>Day</th>\n      <th>Daily Rainfall Total (mm)</th>\n      <th>Highest 30 min Rainfall (mm)</th>\n      <th>Highest 60 min Rainfall (mm)</th>\n      <th>Highest 120 min Rainfall (mm)</th>\n      <th>Mean Temperature (°C)</th>\n      <th>Maximum Temperature (°C)</th>\n      <th>Minimum Temperature (°C)</th>\n      <th>Mean Wind Speed (km/h)</th>\n      <th>Max Wind Speed (km/h)</th>\n    </tr>\n  </thead>\n  <tbody>\n    <tr>\n      <th>0</th>\n      <td>2014</td>\n      <td>1</td>\n      <td>1</td>\n      <td>0.000000</td>\n      <td>0.000000</td>\n      <td>0.000000</td>\n      <td>0.000000</td>\n      <td>26.700000</td>\n      <td>29.200000</td>\n      <td>24.833333</td>\n      <td>7.733333</td>\n      <td>27.366667</td>\n    </tr>\n    <tr>\n      <th>1</th>\n      <td>2014</td>\n      <td>1</td>\n      <td>2</td>\n      <td>0.000000</td>\n      <td>0.000000</td>\n      <td>0.000000</td>\n      <td>0.000000</td>\n      <td>27.300000</td>\n      <td>31.100000</td>\n      <td>24.933333</td>\n      <td>8.833333</td>\n      <td>31.200000</td>\n    </tr>\n    <tr>\n      <th>2</th>\n      <td>2014</td>\n      <td>1</td>\n      <td>3</td>\n      <td>22.133333</td>\n      <td>13.066667</td>\n      <td>17.000000</td>\n      <td>20.266667</td>\n      <td>26.666667</td>\n      <td>30.566667</td>\n      <td>24.333333</td>\n      <td>7.600000</td>\n      <td>45.000000</td>\n    </tr>\n    <tr>\n      <th>3</th>\n      <td>2014</td>\n      <td>1</td>\n      <td>4</td>\n      <td>6.133333</td>\n      <td>3.200000</td>\n      <td>5.200000</td>\n      <td>6.133333</td>\n      <td>26.666667</td>\n      <td>30.900000</td>\n      <td>24.566667</td>\n      <td>5.766667</td>\n      <td>26.966667</td>\n    </tr>\n    <tr>\n      <th>4</th>\n      <td>2014</td>\n      <td>1</td>\n      <td>5</td>\n      <td>8.733333</td>\n      <td>3.533333</td>\n      <td>4.866667</td>\n      <td>7.066667</td>\n      <td>24.933333</td>\n      <td>26.333333</td>\n      <td>23.500000</td>\n      <td>6.200000</td>\n      <td>24.000000</td>\n    </tr>\n    <tr>\n      <th>...</th>\n      <td>...</td>\n      <td>...</td>\n      <td>...</td>\n      <td>...</td>\n      <td>...</td>\n      <td>...</td>\n      <td>...</td>\n      <td>...</td>\n      <td>...</td>\n      <td>...</td>\n      <td>...</td>\n      <td>...</td>\n    </tr>\n    <tr>\n      <th>2552</th>\n      <td>2020</td>\n      <td>12</td>\n      <td>27</td>\n      <td>3.666667</td>\n      <td>3.266667</td>\n      <td>3.666667</td>\n      <td>3.666667</td>\n      <td>27.150000</td>\n      <td>31.550000</td>\n      <td>24.100000</td>\n      <td>11.400000</td>\n      <td>29.750000</td>\n    </tr>\n    <tr>\n      <th>2553</th>\n      <td>2020</td>\n      <td>12</td>\n      <td>28</td>\n      <td>3.200000</td>\n      <td>1.733333</td>\n      <td>2.200000</td>\n      <td>2.266667</td>\n      <td>27.766667</td>\n      <td>31.866667</td>\n      <td>25.600000</td>\n      <td>11.333333</td>\n      <td>38.166667</td>\n    </tr>\n    <tr>\n      <th>2554</th>\n      <td>2020</td>\n      <td>12</td>\n      <td>29</td>\n      <td>2.333333</td>\n      <td>2.000000</td>\n      <td>2.066667</td>\n      <td>2.133333</td>\n      <td>26.633333</td>\n      <td>29.933333</td>\n      <td>25.166667</td>\n      <td>7.400000</td>\n      <td>26.666667</td>\n    </tr>\n    <tr>\n      <th>2555</th>\n      <td>2020</td>\n      <td>12</td>\n      <td>30</td>\n      <td>0.066667</td>\n      <td>0.066667</td>\n      <td>0.066667</td>\n      <td>0.066667</td>\n      <td>27.666667</td>\n      <td>31.433333</td>\n      <td>25.233333</td>\n      <td>9.800000</td>\n      <td>33.333333</td>\n    </tr>\n    <tr>\n      <th>2556</th>\n      <td>2020</td>\n      <td>12</td>\n      <td>31</td>\n      <td>9.266667</td>\n      <td>5.733333</td>\n      <td>6.800000</td>\n      <td>9.266667</td>\n      <td>27.100000</td>\n      <td>30.900000</td>\n      <td>24.900000</td>\n      <td>9.833333</td>\n      <td>33.166667</td>\n    </tr>\n  </tbody>\n</table>\n<p>2557 rows × 12 columns</p>\n</div>"
     },
     "execution_count": 74,
     "metadata": {},
     "output_type": "execute_result"
    }
   ],
   "source": [
    "\n",
    "# Remove dates out of allowed range\n",
    "new_df = grouped_df[(grouped_df['Date'] >= start_date) & (grouped_df['Date'] <= end_date)]\n"
   ],
   "metadata": {
    "collapsed": false
   }
  },
  {
   "cell_type": "code",
   "execution_count": null,
   "outputs": [],
   "source": [
    "# Write to csv\n",
    "new_df.to_csv(r\"C:\\Users\\wong2\\PycharmProjects\\Data_sci_pw\\Datasets\\Cleaned_datasets\\weather.csv\", index=False)"
   ],
   "metadata": {
    "collapsed": false
   }
  },
  {
   "cell_type": "markdown",
   "source": [
    "Parse code into final dataset"
   ],
   "metadata": {
    "collapsed": false
   }
  },
  {
   "cell_type": "code",
   "execution_count": 84,
   "outputs": [],
   "source": [
    "# Load weather df\n",
    "weather_df = pd.read_csv(r\"C:\\Users\\wong2\\PycharmProjects\\Data_sci_pw\\Datasets\\Cleaned_datasets\\weather.csv\")"
   ],
   "metadata": {
    "collapsed": false
   }
  },
  {
   "cell_type": "code",
   "execution_count": 85,
   "outputs": [],
   "source": [
    "# Convert weather datetime df into pd datetime\n",
    "weather_df['DateTime'] = pd.to_datetime(weather_df[['Year', 'Month', 'Day']].astype(str).apply('-'.join, 1) + ' ' + '00:00:00')\n",
    "\n",
    "\n",
    "weather_df = weather_df.drop(['Year', 'Month', 'Day'], axis=1)"
   ],
   "metadata": {
    "collapsed": false
   }
  },
  {
   "cell_type": "code",
   "execution_count": 86,
   "outputs": [],
   "source": [
    "# Make the Datetime col the first col\n",
    "weather_df.insert(0, 'DateTime', weather_df.pop('DateTime'))"
   ],
   "metadata": {
    "collapsed": false
   }
  },
  {
   "cell_type": "code",
   "execution_count": 87,
   "outputs": [
    {
     "data": {
      "text/plain": "       DateTime  Daily Rainfall Total (mm)  Highest 30 min Rainfall (mm)  \\\n0    2014-01-01                   0.000000                      0.000000   \n1    2014-01-02                   0.000000                      0.000000   \n2    2014-01-03                  22.133333                     13.066667   \n3    2014-01-04                   6.133333                      3.200000   \n4    2014-01-05                   8.733333                      3.533333   \n...         ...                        ...                           ...   \n2552 2020-12-27                   3.666667                      3.266667   \n2553 2020-12-28                   3.200000                      1.733333   \n2554 2020-12-29                   2.333333                      2.000000   \n2555 2020-12-30                   0.066667                      0.066667   \n2556 2020-12-31                   9.266667                      5.733333   \n\n      Highest 60 min Rainfall (mm)  Highest 120 min Rainfall (mm)  \\\n0                         0.000000                       0.000000   \n1                         0.000000                       0.000000   \n2                        17.000000                      20.266667   \n3                         5.200000                       6.133333   \n4                         4.866667                       7.066667   \n...                            ...                            ...   \n2552                      3.666667                       3.666667   \n2553                      2.200000                       2.266667   \n2554                      2.066667                       2.133333   \n2555                      0.066667                       0.066667   \n2556                      6.800000                       9.266667   \n\n      Mean Temperature (°C)  Maximum Temperature (°C)  \\\n0                 26.700000                 29.200000   \n1                 27.300000                 31.100000   \n2                 26.666667                 30.566667   \n3                 26.666667                 30.900000   \n4                 24.933333                 26.333333   \n...                     ...                       ...   \n2552              27.150000                 31.550000   \n2553              27.766667                 31.866667   \n2554              26.633333                 29.933333   \n2555              27.666667                 31.433333   \n2556              27.100000                 30.900000   \n\n      Minimum Temperature (°C)  Mean Wind Speed (km/h)  Max Wind Speed (km/h)  \n0                    24.833333                7.733333              27.366667  \n1                    24.933333                8.833333              31.200000  \n2                    24.333333                7.600000              45.000000  \n3                    24.566667                5.766667              26.966667  \n4                    23.500000                6.200000              24.000000  \n...                        ...                     ...                    ...  \n2552                 24.100000               11.400000              29.750000  \n2553                 25.600000               11.333333              38.166667  \n2554                 25.166667                7.400000              26.666667  \n2555                 25.233333                9.800000              33.333333  \n2556                 24.900000                9.833333              33.166667  \n\n[2557 rows x 10 columns]",
      "text/html": "<div>\n<style scoped>\n    .dataframe tbody tr th:only-of-type {\n        vertical-align: middle;\n    }\n\n    .dataframe tbody tr th {\n        vertical-align: top;\n    }\n\n    .dataframe thead th {\n        text-align: right;\n    }\n</style>\n<table border=\"1\" class=\"dataframe\">\n  <thead>\n    <tr style=\"text-align: right;\">\n      <th></th>\n      <th>DateTime</th>\n      <th>Daily Rainfall Total (mm)</th>\n      <th>Highest 30 min Rainfall (mm)</th>\n      <th>Highest 60 min Rainfall (mm)</th>\n      <th>Highest 120 min Rainfall (mm)</th>\n      <th>Mean Temperature (°C)</th>\n      <th>Maximum Temperature (°C)</th>\n      <th>Minimum Temperature (°C)</th>\n      <th>Mean Wind Speed (km/h)</th>\n      <th>Max Wind Speed (km/h)</th>\n    </tr>\n  </thead>\n  <tbody>\n    <tr>\n      <th>0</th>\n      <td>2014-01-01</td>\n      <td>0.000000</td>\n      <td>0.000000</td>\n      <td>0.000000</td>\n      <td>0.000000</td>\n      <td>26.700000</td>\n      <td>29.200000</td>\n      <td>24.833333</td>\n      <td>7.733333</td>\n      <td>27.366667</td>\n    </tr>\n    <tr>\n      <th>1</th>\n      <td>2014-01-02</td>\n      <td>0.000000</td>\n      <td>0.000000</td>\n      <td>0.000000</td>\n      <td>0.000000</td>\n      <td>27.300000</td>\n      <td>31.100000</td>\n      <td>24.933333</td>\n      <td>8.833333</td>\n      <td>31.200000</td>\n    </tr>\n    <tr>\n      <th>2</th>\n      <td>2014-01-03</td>\n      <td>22.133333</td>\n      <td>13.066667</td>\n      <td>17.000000</td>\n      <td>20.266667</td>\n      <td>26.666667</td>\n      <td>30.566667</td>\n      <td>24.333333</td>\n      <td>7.600000</td>\n      <td>45.000000</td>\n    </tr>\n    <tr>\n      <th>3</th>\n      <td>2014-01-04</td>\n      <td>6.133333</td>\n      <td>3.200000</td>\n      <td>5.200000</td>\n      <td>6.133333</td>\n      <td>26.666667</td>\n      <td>30.900000</td>\n      <td>24.566667</td>\n      <td>5.766667</td>\n      <td>26.966667</td>\n    </tr>\n    <tr>\n      <th>4</th>\n      <td>2014-01-05</td>\n      <td>8.733333</td>\n      <td>3.533333</td>\n      <td>4.866667</td>\n      <td>7.066667</td>\n      <td>24.933333</td>\n      <td>26.333333</td>\n      <td>23.500000</td>\n      <td>6.200000</td>\n      <td>24.000000</td>\n    </tr>\n    <tr>\n      <th>...</th>\n      <td>...</td>\n      <td>...</td>\n      <td>...</td>\n      <td>...</td>\n      <td>...</td>\n      <td>...</td>\n      <td>...</td>\n      <td>...</td>\n      <td>...</td>\n      <td>...</td>\n    </tr>\n    <tr>\n      <th>2552</th>\n      <td>2020-12-27</td>\n      <td>3.666667</td>\n      <td>3.266667</td>\n      <td>3.666667</td>\n      <td>3.666667</td>\n      <td>27.150000</td>\n      <td>31.550000</td>\n      <td>24.100000</td>\n      <td>11.400000</td>\n      <td>29.750000</td>\n    </tr>\n    <tr>\n      <th>2553</th>\n      <td>2020-12-28</td>\n      <td>3.200000</td>\n      <td>1.733333</td>\n      <td>2.200000</td>\n      <td>2.266667</td>\n      <td>27.766667</td>\n      <td>31.866667</td>\n      <td>25.600000</td>\n      <td>11.333333</td>\n      <td>38.166667</td>\n    </tr>\n    <tr>\n      <th>2554</th>\n      <td>2020-12-29</td>\n      <td>2.333333</td>\n      <td>2.000000</td>\n      <td>2.066667</td>\n      <td>2.133333</td>\n      <td>26.633333</td>\n      <td>29.933333</td>\n      <td>25.166667</td>\n      <td>7.400000</td>\n      <td>26.666667</td>\n    </tr>\n    <tr>\n      <th>2555</th>\n      <td>2020-12-30</td>\n      <td>0.066667</td>\n      <td>0.066667</td>\n      <td>0.066667</td>\n      <td>0.066667</td>\n      <td>27.666667</td>\n      <td>31.433333</td>\n      <td>25.233333</td>\n      <td>9.800000</td>\n      <td>33.333333</td>\n    </tr>\n    <tr>\n      <th>2556</th>\n      <td>2020-12-31</td>\n      <td>9.266667</td>\n      <td>5.733333</td>\n      <td>6.800000</td>\n      <td>9.266667</td>\n      <td>27.100000</td>\n      <td>30.900000</td>\n      <td>24.900000</td>\n      <td>9.833333</td>\n      <td>33.166667</td>\n    </tr>\n  </tbody>\n</table>\n<p>2557 rows × 10 columns</p>\n</div>"
     },
     "execution_count": 87,
     "metadata": {},
     "output_type": "execute_result"
    }
   ],
   "source": [
    "# Drop unnamed col\n",
    "weather_df.drop(\"Unnamed: 0\", axis=1)"
   ],
   "metadata": {
    "collapsed": false
   }
  },
  {
   "cell_type": "code",
   "execution_count": 111,
   "outputs": [],
   "source": [
    "# Load in holiday file\n",
    "holiday_df = pd.read_csv(r\"C:\\Users\\wong2\\PycharmProjects\\Data_sci_pw\\Datasets\\Cleaned_datasets\\holiday.csv\")"
   ],
   "metadata": {
    "collapsed": false
   }
  },
  {
   "cell_type": "code",
   "execution_count": 113,
   "outputs": [],
   "source": [
    "holiday_df['DateTime'] = pd.to_datetime(holiday_df[\"DateTime\"])"
   ],
   "metadata": {
    "collapsed": false
   }
  },
  {
   "cell_type": "code",
   "execution_count": 115,
   "outputs": [],
   "source": [
    "# Merge the dfs\n",
    "merged_df_1 = pd.merge(holiday_df, weather_df, on='DateTime', how='left')\n",
    "merged_df_2 = pd.merge(holiday_df, weather_df, on='DateTime', how='left')\n"
   ],
   "metadata": {
    "collapsed": false
   }
  },
  {
   "cell_type": "code",
   "execution_count": 116,
   "outputs": [],
   "source": [
    "# Concatenate the two merged dataframes\n",
    "final_df = pd.concat([merged_df_1, merged_df_2], axis=0)"
   ],
   "metadata": {
    "collapsed": false
   }
  },
  {
   "cell_type": "code",
   "execution_count": 117,
   "outputs": [],
   "source": [
    "# Write to CSV file\n",
    "final_df.to_csv(r\"C:\\Users\\wong2\\PycharmProjects\\Data_sci_pw\\Datasets\\final_dataset.csv\", index=False)"
   ],
   "metadata": {
    "collapsed": false
   }
  },
  {
   "cell_type": "code",
   "execution_count": null,
   "outputs": [],
   "source": [],
   "metadata": {
    "collapsed": false
   }
  }
 ],
 "metadata": {
  "kernelspec": {
   "display_name": "Python 3",
   "language": "python",
   "name": "python3"
  },
  "language_info": {
   "codemirror_mode": {
    "name": "ipython",
    "version": 2
   },
   "file_extension": ".py",
   "mimetype": "text/x-python",
   "name": "python",
   "nbconvert_exporter": "python",
   "pygments_lexer": "ipython2",
   "version": "2.7.6"
  }
 },
 "nbformat": 4,
 "nbformat_minor": 0
}
