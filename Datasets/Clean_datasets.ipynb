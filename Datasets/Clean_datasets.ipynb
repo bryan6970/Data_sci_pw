{
 "cells": [
  {
   "cell_type": "markdown",
   "source": [
    "Clean data"
   ],
   "metadata": {
    "collapsed": false
   }
  },
  {
   "cell_type": "code",
   "execution_count": 1,
   "outputs": [],
   "source": [
    "import pandas as pd"
   ],
   "metadata": {
    "collapsed": false
   }
  },
  {
   "cell_type": "code",
   "execution_count": null,
   "outputs": [],
   "source": [
    "# Get limitations\n",
    "with open(r\"Cleaned_datasets\\limitations.txt\", \"r\") as f:\n",
    "    limitations = f.readlines()[-1].split(',')\n",
    "    start_date, end_date = [pd.to_datetime(date) for date in limitations]"
   ],
   "metadata": {
    "collapsed": false
   }
  },
  {
   "cell_type": "markdown",
   "source": [
    "Clean energy consumption dataset"
   ],
   "metadata": {
    "collapsed": false
   }
  },
  {
   "cell_type": "code",
   "execution_count": 11,
   "outputs": [],
   "source": [
    "energy_df = pd.read_csv(r\"C:\\Users\\wong2\\PycharmProjects\\Data_sci_pw\\Datasets\\Uncleaned_datasets\\energy_consumption.csv\")"
   ],
   "metadata": {
    "collapsed": false
   }
  },
  {
   "cell_type": "code",
   "execution_count": 32,
   "outputs": [
    {
     "name": "stdout",
     "output_type": "stream",
     "text": [
      "DataFrame head\n",
      "                   ds          y\n",
      "0 2012-02-06 00:00:00  4885.7671\n",
      "1 2012-02-06 00:30:00  4526.6826\n",
      "2 2012-02-06 01:00:00  4436.0894\n",
      "3 2012-02-06 01:30:00  4361.2412\n",
      "4 2012-02-06 02:00:00  4295.2305\n",
      "\n",
      "DataFrame tail\n",
      "                        ds            y\n",
      "193531 2023-02-19 21:30:00  6448.370941\n",
      "193532 2023-02-19 22:00:00  6376.849043\n",
      "193533 2023-02-19 22:30:00  6235.211282\n",
      "193534 2023-02-19 23:00:00  6103.995954\n",
      "193535 2023-02-19 23:30:00  5979.283868\n"
     ]
    }
   ],
   "source": [
    "print(f\"DataFrame head\\n{energy_df.head()}\\n\\nDataFrame tail\\n{energy_df.tail()}\")"
   ],
   "metadata": {
    "collapsed": false
   }
  },
  {
   "cell_type": "code",
   "execution_count": 13,
   "outputs": [],
   "source": [
    "# Convert ds collum to datetime format\n",
    "energy_df['ds'] = pd.to_datetime(energy_df['ds'])"
   ],
   "metadata": {
    "collapsed": false
   }
  },
  {
   "cell_type": "code",
   "execution_count": 29,
   "outputs": [],
   "source": [
    "# Only get dates within limitations\n",
    "new_df = energy_df[(energy_df['ds'] >= start_date) & (energy_df['ds'] <= end_date)]"
   ],
   "metadata": {
    "collapsed": false
   }
  },
  {
   "cell_type": "code",
   "execution_count": 38,
   "outputs": [],
   "source": [
    "# Rename column\n",
    "new_df = new_df.rename(columns={'ds': 'datetime'})"
   ],
   "metadata": {
    "collapsed": false
   }
  },
  {
   "cell_type": "code",
   "execution_count": 39,
   "outputs": [],
   "source": [
    "# Write to csv\n",
    "new_df.to_csv(r\"C:\\Users\\wong2\\PycharmProjects\\Data_sci_pw\\Datasets\\Cleaned_datasets\\energy_consumption.csv\", index = False)"
   ],
   "metadata": {
    "collapsed": false
   }
  },
  {
   "cell_type": "markdown",
   "source": [
    "Clean holidays dataset"
   ],
   "metadata": {
    "collapsed": false
   }
  },
  {
   "cell_type": "code",
   "execution_count": 53,
   "outputs": [],
   "source": [
    "# Load dataset\n",
    "holiday_df = pd.read_csv(r\"C:\\Users\\wong2\\PycharmProjects\\Data_sci_pw\\Datasets\\Uncleaned_datasets\\holiday.csv\")"
   ],
   "metadata": {
    "collapsed": false
   }
  },
  {
   "cell_type": "code",
   "execution_count": 54,
   "outputs": [],
   "source": [
    "# Change format to datetime\n",
    "holiday_df['Date'] = pd.to_datetime(holiday_df[\"Date\"])"
   ],
   "metadata": {
    "collapsed": false
   }
  },
  {
   "cell_type": "code",
   "execution_count": 55,
   "outputs": [],
   "source": [
    "# Only get dates within limitations\n",
    "new_df = holiday_df[(holiday_df['Date'] >= start_date) & (holiday_df['Date'] <= end_date)]"
   ],
   "metadata": {
    "collapsed": false
   }
  },
  {
   "cell_type": "code",
   "execution_count": 56,
   "outputs": [],
   "source": [
    "# Write to csv\n",
    "new_df.to_csv(r\"C:\\Users\\wong2\\PycharmProjects\\Data_sci_pw\\Datasets\\Cleaned_datasets\\holiday.csv\", index = False)"
   ],
   "metadata": {
    "collapsed": false
   }
  },
  {
   "cell_type": "markdown",
   "source": [
    "Merge amk, tuas, and changi datasets"
   ],
   "metadata": {
    "collapsed": false
   }
  },
  {
   "cell_type": "code",
   "execution_count": 57,
   "outputs": [],
   "source": [
    "# load dfs\n",
    "df_locationA = pd.read_csv(r\"C:\\Users\\wong2\\PycharmProjects\\Data_sci_pw\\Datasets\\Uncleaned_datasets\\angmokio.csv\")\n",
    "\n",
    "df_locationB= pd.read_csv(r\"C:\\Users\\wong2\\PycharmProjects\\Data_sci_pw\\Datasets\\Uncleaned_datasets\\changi.csv\")\n",
    "\n",
    "df_locationC= pd.read_csv(r\"C:\\Users\\wong2\\PycharmProjects\\Data_sci_pw\\Datasets\\Uncleaned_datasets\\tuassouth.csv\")"
   ],
   "metadata": {
    "collapsed": false
   }
  },
  {
   "cell_type": "code",
   "execution_count": 58,
   "outputs": [],
   "source": [
    "# Merge dfs\n",
    "merged_df = pd.concat([df_locationA, df_locationB, df_locationC])"
   ],
   "metadata": {
    "collapsed": false
   }
  },
  {
   "cell_type": "code",
   "execution_count": 62,
   "outputs": [],
   "source": [
    "# Ground the dfs and mean the vals like temp\n",
    "grouped_df = merged_df.groupby(['Year', 'Month', 'Day']).mean(numeric_only=True).reset_index()"
   ],
   "metadata": {
    "collapsed": false
   }
  },
  {
   "cell_type": "code",
   "execution_count": 63,
   "outputs": [],
   "source": [
    "# Write to csv\n",
    "grouped_df.to_csv(r\"C:\\Users\\wong2\\PycharmProjects\\Data_sci_pw\\Datasets\\Cleaned_datasets\\weather.csv\", index = False)"
   ],
   "metadata": {
    "collapsed": false
   }
  },
  {
   "cell_type": "code",
   "execution_count": null,
   "outputs": [],
   "source": [],
   "metadata": {
    "collapsed": false
   }
  }
 ],
 "metadata": {
  "kernelspec": {
   "display_name": "Python 3",
   "language": "python",
   "name": "python3"
  },
  "language_info": {
   "codemirror_mode": {
    "name": "ipython",
    "version": 2
   },
   "file_extension": ".py",
   "mimetype": "text/x-python",
   "name": "python",
   "nbconvert_exporter": "python",
   "pygments_lexer": "ipython2",
   "version": "2.7.6"
  }
 },
 "nbformat": 4,
 "nbformat_minor": 0
}
