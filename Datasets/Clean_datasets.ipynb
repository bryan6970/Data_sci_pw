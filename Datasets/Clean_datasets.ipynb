{
 "cells": [
  {
   "cell_type": "markdown",
   "source": [
    "Clean data"
   ],
   "metadata": {
    "collapsed": false
   }
  },
  {
   "cell_type": "code",
   "execution_count": 249,
   "outputs": [],
   "source": [
    "import pandas as pd"
   ],
   "metadata": {
    "collapsed": false
   }
  },
  {
   "cell_type": "code",
   "execution_count": 279,
   "outputs": [],
   "source": [
    "# Get limitations\n",
    "with open(r\"Cleaned_datasets\\limitations.txt\", \"r\") as f:\n",
    "    limitations = f.readlines()[-1].split(',')\n",
    "    start_date, end_date = [pd.to_datetime(date) for date in limitations]"
   ],
   "metadata": {
    "collapsed": false
   }
  },
  {
   "cell_type": "markdown",
   "source": [
    "Clean energy consumption dataset"
   ],
   "metadata": {
    "collapsed": false
   }
  },
  {
   "cell_type": "code",
   "execution_count": 251,
   "outputs": [],
   "source": [
    "energy_df = pd.read_csv(r\"C:\\Users\\wong2\\PycharmProjects\\Data_sci_pw\\Datasets\\Uncleaned_datasets\\energy_consumption.csv\")"
   ],
   "metadata": {
    "collapsed": false
   }
  },
  {
   "cell_type": "code",
   "execution_count": 252,
   "outputs": [],
   "source": [
    "# Rename column\n",
    "energy_df = energy_df.rename(columns={'ds': 'DateTime'})"
   ],
   "metadata": {
    "collapsed": false
   }
  },
  {
   "cell_type": "code",
   "execution_count": 253,
   "outputs": [],
   "source": [
    "# Convert ds column to datetime format\n",
    "energy_df['DateTime'] = pd.to_datetime(energy_df['DateTime'])"
   ],
   "metadata": {
    "collapsed": false
   }
  },
  {
   "cell_type": "code",
   "execution_count": 254,
   "outputs": [],
   "source": [
    "# Only get dates within limitations\n",
    "energy_df = energy_df[(energy_df['DateTime'] >= start_date) & (energy_df['DateTime'] <= end_date)]"
   ],
   "metadata": {
    "collapsed": false
   }
  },
  {
   "cell_type": "code",
   "execution_count": 255,
   "outputs": [],
   "source": [
    "# Write to csv\n",
    "energy_df.to_csv(r\"C:\\Users\\wong2\\PycharmProjects\\Data_sci_pw\\Datasets\\Cleaned_datasets\\energy_consumption.csv\", index = False)"
   ],
   "metadata": {
    "collapsed": false
   }
  },
  {
   "cell_type": "markdown",
   "source": [
    "Clean holidays dataset"
   ],
   "metadata": {
    "collapsed": false
   }
  },
  {
   "cell_type": "code",
   "execution_count": 256,
   "outputs": [],
   "source": [
    "# Load dataset\n",
    "holiday_df = pd.read_csv(r\"C:\\Users\\wong2\\PycharmProjects\\Data_sci_pw\\Datasets\\Uncleaned_datasets\\holiday.csv\")"
   ],
   "metadata": {
    "collapsed": false
   }
  },
  {
   "cell_type": "code",
   "execution_count": 257,
   "outputs": [],
   "source": [
    "# Rename Date col to DateTime\n",
    "holiday_df = holiday_df.rename(columns={\"Date\": \"DateTime\"})"
   ],
   "metadata": {
    "collapsed": false
   }
  },
  {
   "cell_type": "code",
   "execution_count": 258,
   "outputs": [],
   "source": [
    "# Change format to datetime\n",
    "holiday_df['DateTime'] = pd.to_datetime(holiday_df[\"DateTime\"])"
   ],
   "metadata": {
    "collapsed": false
   }
  },
  {
   "cell_type": "code",
   "execution_count": 259,
   "outputs": [],
   "source": [
    "# Only get dates within limitations\n",
    "holiday_df = holiday_df[(holiday_df['DateTime'] >= start_date) & (holiday_df['DateTime'] <= end_date)]"
   ],
   "metadata": {
    "collapsed": false
   }
  },
  {
   "cell_type": "code",
   "execution_count": 260,
   "outputs": [],
   "source": [
    "# Make each day a num\n",
    "day_map = {'Monday': 1, 'Tuesday': 2, 'Wednesday': 3, 'Thursday': 4, 'Friday': 5, 'Saturday': 6, 'Sunday': 7}\n",
    "\n",
    "# add a new column to the dataframe and map the days of the week to numerical labels\n",
    "holiday_df['Day'] = holiday_df['Day'].map(day_map)"
   ],
   "metadata": {
    "collapsed": false
   }
  },
  {
   "cell_type": "code",
   "execution_count": 261,
   "outputs": [],
   "source": [
    "# Clean the day and holidays to a number\n",
    "# Get unique holidays\n",
    "unique_holidays = holiday_df['Holiday'].unique()\n",
    "\n",
    "# Create a dictionary of unique numbers for each holiday\n",
    "holiday_dict = {}\n",
    "for i, holiday in enumerate(unique_holidays):\n",
    "    holiday_dict[holiday] = i+1\n",
    "\n",
    "# Map the dictionary to the holiday column of the DataFrame\n",
    "holiday_df['Holiday'] = holiday_df['Holiday'].map(holiday_dict)"
   ],
   "metadata": {
    "collapsed": false
   }
  },
  {
   "cell_type": "code",
   "execution_count": 262,
   "outputs": [],
   "source": [
    "# Write to csv\n",
    "holiday_df.to_csv(r\"C:\\Users\\wong2\\PycharmProjects\\Data_sci_pw\\Datasets\\Cleaned_datasets\\holiday.csv\", index = False)"
   ],
   "metadata": {
    "collapsed": false
   }
  },
  {
   "cell_type": "markdown",
   "source": [
    "Merge amk, tuas, and changi datasets"
   ],
   "metadata": {
    "collapsed": false
   }
  },
  {
   "cell_type": "code",
   "execution_count": 282,
   "outputs": [],
   "source": [
    "# load dfs\n",
    "df_locationA = pd.read_csv(r\"C:\\Users\\wong2\\PycharmProjects\\Data_sci_pw\\Datasets\\Uncleaned_datasets\\angmokio.csv\")\n",
    "\n",
    "df_locationB= pd.read_csv(r\"C:\\Users\\wong2\\PycharmProjects\\Data_sci_pw\\Datasets\\Uncleaned_datasets\\changi.csv\")\n",
    "\n",
    "df_locationC= pd.read_csv(r\"C:\\Users\\wong2\\PycharmProjects\\Data_sci_pw\\Datasets\\Uncleaned_datasets\\tuassouth.csv\")"
   ],
   "metadata": {
    "collapsed": false
   }
  },
  {
   "cell_type": "code",
   "execution_count": 283,
   "outputs": [],
   "source": [
    "# Merge dfs\n",
    "merged_df = pd.concat([df_locationA, df_locationB, df_locationC])"
   ],
   "metadata": {
    "collapsed": false
   }
  },
  {
   "cell_type": "code",
   "execution_count": 284,
   "outputs": [],
   "source": [
    "# Ground the dfs and mean the vals like temp\n",
    "weather_df = merged_df.groupby(['Year', 'Month', 'Day']).mean(numeric_only=True).reset_index()"
   ],
   "metadata": {
    "collapsed": false
   }
  },
  {
   "cell_type": "code",
   "execution_count": 285,
   "outputs": [],
   "source": [
    "# Convert weather datetime df into pd datetime\n",
    "weather_df['DateTime'] = pd.to_datetime(weather_df[['Year', 'Month', 'Day']].astype(str).apply('-'.join, 1) + ' ' + '00:00:00')\n",
    "\n",
    "\n",
    "weather_df = weather_df.drop(['Year', 'Month', 'Day'], axis=1)"
   ],
   "metadata": {
    "collapsed": false
   }
  },
  {
   "cell_type": "code",
   "execution_count": 286,
   "outputs": [],
   "source": [
    "# Make the Datetime col the first col\n",
    "weather_df.insert(0, 'DateTime', weather_df.pop('DateTime'))"
   ],
   "metadata": {
    "collapsed": false
   }
  },
  {
   "cell_type": "code",
   "execution_count": 290,
   "outputs": [],
   "source": [
    "# Drop unnamed col\n",
    "weather_df = weather_df.drop(\"Unnamed: 0\", axis=1)"
   ],
   "metadata": {
    "collapsed": false
   }
  },
  {
   "cell_type": "code",
   "execution_count": 291,
   "outputs": [],
   "source": [
    "# Remove dates out of allowed range\n",
    "weather_df = weather_df[(weather_df['DateTime'] >= pd.to_datetime(start_date)) & (weather_df['DateTime'] <= pd.to_datetime(end_date))]\n"
   ],
   "metadata": {
    "collapsed": false
   }
  },
  {
   "cell_type": "code",
   "execution_count": 292,
   "outputs": [],
   "source": [
    "# Write to csv\n",
    "weather_df.to_csv(r\"C:\\Users\\wong2\\PycharmProjects\\Data_sci_pw\\Datasets\\Cleaned_datasets\\weather.csv\", index=False)"
   ],
   "metadata": {
    "collapsed": false
   }
  },
  {
   "cell_type": "markdown",
   "source": [
    "Parse code into final dataset"
   ],
   "metadata": {
    "collapsed": false
   }
  },
  {
   "cell_type": "code",
   "execution_count": 293,
   "outputs": [],
   "source": [
    "# Load weather df\n",
    "weather_df = pd.read_csv(r\"C:\\Users\\wong2\\PycharmProjects\\Data_sci_pw\\Datasets\\Cleaned_datasets\\weather.csv\")"
   ],
   "metadata": {
    "collapsed": false
   }
  },
  {
   "cell_type": "code",
   "execution_count": 294,
   "outputs": [],
   "source": [
    "# Load in holiday file\n",
    "holiday_df = pd.read_csv(r\"C:\\Users\\wong2\\PycharmProjects\\Data_sci_pw\\Datasets\\Cleaned_datasets\\holiday.csv\")"
   ],
   "metadata": {
    "collapsed": false
   }
  },
  {
   "cell_type": "code",
   "execution_count": 295,
   "outputs": [],
   "source": [
    "# Load energy consumption file\n",
    "energy_df = pd.read_csv(r\"C:\\Users\\wong2\\PycharmProjects\\Data_sci_pw\\Datasets\\Cleaned_datasets\\energy_consumption.csv\")"
   ],
   "metadata": {
    "collapsed": false
   }
  },
  {
   "cell_type": "code",
   "execution_count": 296,
   "outputs": [],
   "source": [
    "# Merge the dfs\n",
    "merged_df_1 = pd.merge(holiday_df, weather_df, on='DateTime', how='left')\n",
    "merged_df_2 = pd.merge(holiday_df, energy_df, on='DateTime', how='left')\n"
   ],
   "metadata": {
    "collapsed": false
   }
  },
  {
   "cell_type": "code",
   "execution_count": 297,
   "outputs": [],
   "source": [
    "# Concatenate the two merged dataframes\n",
    "final_df = pd.concat([merged_df_1, merged_df_2], axis=0)"
   ],
   "metadata": {
    "collapsed": false
   }
  },
  {
   "cell_type": "code",
   "execution_count": 298,
   "outputs": [],
   "source": [
    "# Write to CSV file\n",
    "final_df.to_csv(r\"C:\\Users\\wong2\\PycharmProjects\\Data_sci_pw\\Datasets\\final_dataset.csv\", index=False)"
   ],
   "metadata": {
    "collapsed": false
   }
  },
  {
   "cell_type": "code",
   "execution_count": 299,
   "outputs": [
    {
     "data": {
      "text/plain": "      DateTime  Day  Holiday  Daily Rainfall Total (mm)  \\\n0   2017-01-01    7        1                   4.333333   \n1   2017-01-02    1        1                  15.800000   \n2   2017-01-28    6        2                   1.333333   \n3   2017-01-29    7        2                   0.200000   \n4   2017-04-14    5        3                  27.266667   \n..         ...  ...      ...                        ...   \n33  2019-05-01    3        4                        NaN   \n34  2019-04-19    5        3                        NaN   \n35  2019-02-06    3        2                        NaN   \n36  2019-02-05    2        2                        NaN   \n37  2019-01-01    2        1                        NaN   \n\n    Highest 30 min Rainfall (mm)  Highest 60 min Rainfall (mm)  \\\n0                       2.933333                      3.266667   \n1                       7.733333                     10.733333   \n2                       1.000000                      1.133333   \n3                       0.066667                      0.133333   \n4                      21.933333                     26.066667   \n..                           ...                           ...   \n33                           NaN                           NaN   \n34                           NaN                           NaN   \n35                           NaN                           NaN   \n36                           NaN                           NaN   \n37                           NaN                           NaN   \n\n    Highest 120 min Rainfall (mm)  Mean Temperature (°C)  \\\n0                        3.533333              27.066667   \n1                       13.200000              26.333333   \n2                        1.266667              26.266667   \n3                        0.200000              26.466667   \n4                       27.200000              27.233333   \n..                            ...                    ...   \n33                            NaN                    NaN   \n34                            NaN                    NaN   \n35                            NaN                    NaN   \n36                            NaN                    NaN   \n37                            NaN                    NaN   \n\n    Maximum Temperature (°C)  Minimum Temperature (°C)  \\\n0                  31.200000                 25.233333   \n1                  29.766667                 24.633333   \n2                  29.600000                 24.600000   \n3                  28.566667                 24.700000   \n4                  31.400000                 24.233333   \n..                       ...                       ...   \n33                       NaN                       NaN   \n34                       NaN                       NaN   \n35                       NaN                       NaN   \n36                       NaN                       NaN   \n37                       NaN                       NaN   \n\n    Mean Wind Speed (km/h)  Max Wind Speed (km/h)   y  \n0                 7.333333              32.966667 NaN  \n1                 4.566667              22.933333 NaN  \n2                 7.566667              33.833333 NaN  \n3                 6.400000              22.300000 NaN  \n4                 5.266667              34.833333 NaN  \n..                     ...                    ...  ..  \n33                     NaN                    NaN NaN  \n34                     NaN                    NaN NaN  \n35                     NaN                    NaN NaN  \n36                     NaN                    NaN NaN  \n37                     NaN                    NaN NaN  \n\n[76 rows x 13 columns]",
      "text/html": "<div>\n<style scoped>\n    .dataframe tbody tr th:only-of-type {\n        vertical-align: middle;\n    }\n\n    .dataframe tbody tr th {\n        vertical-align: top;\n    }\n\n    .dataframe thead th {\n        text-align: right;\n    }\n</style>\n<table border=\"1\" class=\"dataframe\">\n  <thead>\n    <tr style=\"text-align: right;\">\n      <th></th>\n      <th>DateTime</th>\n      <th>Day</th>\n      <th>Holiday</th>\n      <th>Daily Rainfall Total (mm)</th>\n      <th>Highest 30 min Rainfall (mm)</th>\n      <th>Highest 60 min Rainfall (mm)</th>\n      <th>Highest 120 min Rainfall (mm)</th>\n      <th>Mean Temperature (°C)</th>\n      <th>Maximum Temperature (°C)</th>\n      <th>Minimum Temperature (°C)</th>\n      <th>Mean Wind Speed (km/h)</th>\n      <th>Max Wind Speed (km/h)</th>\n      <th>y</th>\n    </tr>\n  </thead>\n  <tbody>\n    <tr>\n      <th>0</th>\n      <td>2017-01-01</td>\n      <td>7</td>\n      <td>1</td>\n      <td>4.333333</td>\n      <td>2.933333</td>\n      <td>3.266667</td>\n      <td>3.533333</td>\n      <td>27.066667</td>\n      <td>31.200000</td>\n      <td>25.233333</td>\n      <td>7.333333</td>\n      <td>32.966667</td>\n      <td>NaN</td>\n    </tr>\n    <tr>\n      <th>1</th>\n      <td>2017-01-02</td>\n      <td>1</td>\n      <td>1</td>\n      <td>15.800000</td>\n      <td>7.733333</td>\n      <td>10.733333</td>\n      <td>13.200000</td>\n      <td>26.333333</td>\n      <td>29.766667</td>\n      <td>24.633333</td>\n      <td>4.566667</td>\n      <td>22.933333</td>\n      <td>NaN</td>\n    </tr>\n    <tr>\n      <th>2</th>\n      <td>2017-01-28</td>\n      <td>6</td>\n      <td>2</td>\n      <td>1.333333</td>\n      <td>1.000000</td>\n      <td>1.133333</td>\n      <td>1.266667</td>\n      <td>26.266667</td>\n      <td>29.600000</td>\n      <td>24.600000</td>\n      <td>7.566667</td>\n      <td>33.833333</td>\n      <td>NaN</td>\n    </tr>\n    <tr>\n      <th>3</th>\n      <td>2017-01-29</td>\n      <td>7</td>\n      <td>2</td>\n      <td>0.200000</td>\n      <td>0.066667</td>\n      <td>0.133333</td>\n      <td>0.200000</td>\n      <td>26.466667</td>\n      <td>28.566667</td>\n      <td>24.700000</td>\n      <td>6.400000</td>\n      <td>22.300000</td>\n      <td>NaN</td>\n    </tr>\n    <tr>\n      <th>4</th>\n      <td>2017-04-14</td>\n      <td>5</td>\n      <td>3</td>\n      <td>27.266667</td>\n      <td>21.933333</td>\n      <td>26.066667</td>\n      <td>27.200000</td>\n      <td>27.233333</td>\n      <td>31.400000</td>\n      <td>24.233333</td>\n      <td>5.266667</td>\n      <td>34.833333</td>\n      <td>NaN</td>\n    </tr>\n    <tr>\n      <th>...</th>\n      <td>...</td>\n      <td>...</td>\n      <td>...</td>\n      <td>...</td>\n      <td>...</td>\n      <td>...</td>\n      <td>...</td>\n      <td>...</td>\n      <td>...</td>\n      <td>...</td>\n      <td>...</td>\n      <td>...</td>\n      <td>...</td>\n    </tr>\n    <tr>\n      <th>33</th>\n      <td>2019-05-01</td>\n      <td>3</td>\n      <td>4</td>\n      <td>NaN</td>\n      <td>NaN</td>\n      <td>NaN</td>\n      <td>NaN</td>\n      <td>NaN</td>\n      <td>NaN</td>\n      <td>NaN</td>\n      <td>NaN</td>\n      <td>NaN</td>\n      <td>NaN</td>\n    </tr>\n    <tr>\n      <th>34</th>\n      <td>2019-04-19</td>\n      <td>5</td>\n      <td>3</td>\n      <td>NaN</td>\n      <td>NaN</td>\n      <td>NaN</td>\n      <td>NaN</td>\n      <td>NaN</td>\n      <td>NaN</td>\n      <td>NaN</td>\n      <td>NaN</td>\n      <td>NaN</td>\n      <td>NaN</td>\n    </tr>\n    <tr>\n      <th>35</th>\n      <td>2019-02-06</td>\n      <td>3</td>\n      <td>2</td>\n      <td>NaN</td>\n      <td>NaN</td>\n      <td>NaN</td>\n      <td>NaN</td>\n      <td>NaN</td>\n      <td>NaN</td>\n      <td>NaN</td>\n      <td>NaN</td>\n      <td>NaN</td>\n      <td>NaN</td>\n    </tr>\n    <tr>\n      <th>36</th>\n      <td>2019-02-05</td>\n      <td>2</td>\n      <td>2</td>\n      <td>NaN</td>\n      <td>NaN</td>\n      <td>NaN</td>\n      <td>NaN</td>\n      <td>NaN</td>\n      <td>NaN</td>\n      <td>NaN</td>\n      <td>NaN</td>\n      <td>NaN</td>\n      <td>NaN</td>\n    </tr>\n    <tr>\n      <th>37</th>\n      <td>2019-01-01</td>\n      <td>2</td>\n      <td>1</td>\n      <td>NaN</td>\n      <td>NaN</td>\n      <td>NaN</td>\n      <td>NaN</td>\n      <td>NaN</td>\n      <td>NaN</td>\n      <td>NaN</td>\n      <td>NaN</td>\n      <td>NaN</td>\n      <td>NaN</td>\n    </tr>\n  </tbody>\n</table>\n<p>76 rows × 13 columns</p>\n</div>"
     },
     "execution_count": 299,
     "metadata": {},
     "output_type": "execute_result"
    }
   ],
   "source": [
    "final_df"
   ],
   "metadata": {
    "collapsed": false
   }
  },
  {
   "cell_type": "code",
   "execution_count": null,
   "outputs": [],
   "source": [],
   "metadata": {
    "collapsed": false
   }
  }
 ],
 "metadata": {
  "kernelspec": {
   "display_name": "Python 3",
   "language": "python",
   "name": "python3"
  },
  "language_info": {
   "codemirror_mode": {
    "name": "ipython",
    "version": 2
   },
   "file_extension": ".py",
   "mimetype": "text/x-python",
   "name": "python",
   "nbconvert_exporter": "python",
   "pygments_lexer": "ipython2",
   "version": "2.7.6"
  }
 },
 "nbformat": 4,
 "nbformat_minor": 0
}
