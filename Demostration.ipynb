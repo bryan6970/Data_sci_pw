{
 "cells": [
  {
   "cell_type": "code",
   "execution_count": 154,
   "id": "initial_id",
   "metadata": {
    "collapsed": true,
    "ExecuteTime": {
     "end_time": "2023-08-16T09:23:53.965178800Z",
     "start_time": "2023-08-16T09:23:53.952959500Z"
    }
   },
   "outputs": [],
   "source": [
    "import joblib\n",
    "import pandas as pd\n",
    "import numpy as np"
   ]
  },
  {
   "cell_type": "code",
   "execution_count": 200,
   "outputs": [],
   "source": [
    "model_filename = 'exponential_smoothing_model.pkl'\n",
    "best_step_filename = \"best_step_exponential_smoothing_model.pkl\"\n",
    "\n",
    "# Load the saved model and best_step\n",
    "model_fit = joblib.load(model_filename)\n",
    "best_step = joblib.load(best_step_filename)\n",
    "\n",
    "actual_results_df = pd.read_csv(\"actual_results.csv\", index_col=\"DateTime\")\n",
    "\n",
    "  \n"
   ],
   "metadata": {
    "collapsed": false,
    "ExecuteTime": {
     "end_time": "2023-08-16T09:27:26.009205100Z",
     "start_time": "2023-08-16T09:27:25.998169700Z"
    }
   },
   "id": "7df54e753474b07d"
  },
  {
   "cell_type": "code",
   "execution_count": 201,
   "outputs": [],
   "source": [
    "# Max steps 48 (Actual data limitation)\n",
    "# 48 is 1 day\n",
    "# Model has a great corr coeff under 20 hours at above 0.8\n",
    "no_steps = 40\n",
    "\n",
    "forcast_df = pd.DataFrame(model_fit.forecast(steps=no_steps))\n",
    "\n",
    "forcast_df.index.name = \"DateTime\"\n",
    "forcast_df.rename(columns={0: \"DEMAND (MW)\"}, inplace=True)"
   ],
   "metadata": {
    "collapsed": false,
    "ExecuteTime": {
     "end_time": "2023-08-16T09:27:26.222343600Z",
     "start_time": "2023-08-16T09:27:26.006203800Z"
    }
   },
   "id": "ff83b49baf8bae25"
  },
  {
   "cell_type": "code",
   "execution_count": 202,
   "outputs": [
    {
     "data": {
      "text/plain": "                     DEMAND (MW)\nDateTime                        \n2021-09-30 00:30:00  5937.986901\n2021-09-30 01:00:00  5814.596611\n2021-09-30 01:30:00  5691.206321\n2021-09-30 02:00:00  5567.816031\n2021-09-30 02:30:00  5444.425741\n2021-09-30 03:00:00  5321.035451\n2021-09-30 03:30:00  5197.645161\n2021-09-30 04:00:00  5074.254871\n2021-09-30 04:30:00  4950.864580\n2021-09-30 05:00:00  4827.474290\n2021-09-30 05:30:00  4704.084000\n2021-09-30 06:00:00  4580.693710\n2021-09-30 06:30:00  4457.303420\n2021-09-30 07:00:00  4333.913130\n2021-09-30 07:30:00  4210.522840\n2021-09-30 08:00:00  4087.132550\n2021-09-30 08:30:00  3963.742260\n2021-09-30 09:00:00  3840.351970\n2021-09-30 09:30:00  3716.961680\n2021-09-30 10:00:00  3593.571389\n2021-09-30 10:30:00  3470.181099\n2021-09-30 11:00:00  3346.790809\n2021-09-30 11:30:00  3223.400519\n2021-09-30 12:00:00  3100.010229\n2021-09-30 12:30:00  2976.619939\n2021-09-30 13:00:00  2853.229649\n2021-09-30 13:30:00  2729.839359\n2021-09-30 14:00:00  2606.449069\n2021-09-30 14:30:00  2483.058779\n2021-09-30 15:00:00  2359.668489\n2021-09-30 15:30:00  2236.278199\n2021-09-30 16:00:00  2112.887908\n2021-09-30 16:30:00  1989.497618\n2021-09-30 17:00:00  1866.107328\n2021-09-30 17:30:00  1742.717038\n2021-09-30 18:00:00  1619.326748\n2021-09-30 18:30:00  1495.936458\n2021-09-30 19:00:00  1372.546168\n2021-09-30 19:30:00  1249.155878\n2021-09-30 20:00:00  1125.765588",
      "text/html": "<div>\n<style scoped>\n    .dataframe tbody tr th:only-of-type {\n        vertical-align: middle;\n    }\n\n    .dataframe tbody tr th {\n        vertical-align: top;\n    }\n\n    .dataframe thead th {\n        text-align: right;\n    }\n</style>\n<table border=\"1\" class=\"dataframe\">\n  <thead>\n    <tr style=\"text-align: right;\">\n      <th></th>\n      <th>DEMAND (MW)</th>\n    </tr>\n    <tr>\n      <th>DateTime</th>\n      <th></th>\n    </tr>\n  </thead>\n  <tbody>\n    <tr>\n      <th>2021-09-30 00:30:00</th>\n      <td>5937.986901</td>\n    </tr>\n    <tr>\n      <th>2021-09-30 01:00:00</th>\n      <td>5814.596611</td>\n    </tr>\n    <tr>\n      <th>2021-09-30 01:30:00</th>\n      <td>5691.206321</td>\n    </tr>\n    <tr>\n      <th>2021-09-30 02:00:00</th>\n      <td>5567.816031</td>\n    </tr>\n    <tr>\n      <th>2021-09-30 02:30:00</th>\n      <td>5444.425741</td>\n    </tr>\n    <tr>\n      <th>2021-09-30 03:00:00</th>\n      <td>5321.035451</td>\n    </tr>\n    <tr>\n      <th>2021-09-30 03:30:00</th>\n      <td>5197.645161</td>\n    </tr>\n    <tr>\n      <th>2021-09-30 04:00:00</th>\n      <td>5074.254871</td>\n    </tr>\n    <tr>\n      <th>2021-09-30 04:30:00</th>\n      <td>4950.864580</td>\n    </tr>\n    <tr>\n      <th>2021-09-30 05:00:00</th>\n      <td>4827.474290</td>\n    </tr>\n    <tr>\n      <th>2021-09-30 05:30:00</th>\n      <td>4704.084000</td>\n    </tr>\n    <tr>\n      <th>2021-09-30 06:00:00</th>\n      <td>4580.693710</td>\n    </tr>\n    <tr>\n      <th>2021-09-30 06:30:00</th>\n      <td>4457.303420</td>\n    </tr>\n    <tr>\n      <th>2021-09-30 07:00:00</th>\n      <td>4333.913130</td>\n    </tr>\n    <tr>\n      <th>2021-09-30 07:30:00</th>\n      <td>4210.522840</td>\n    </tr>\n    <tr>\n      <th>2021-09-30 08:00:00</th>\n      <td>4087.132550</td>\n    </tr>\n    <tr>\n      <th>2021-09-30 08:30:00</th>\n      <td>3963.742260</td>\n    </tr>\n    <tr>\n      <th>2021-09-30 09:00:00</th>\n      <td>3840.351970</td>\n    </tr>\n    <tr>\n      <th>2021-09-30 09:30:00</th>\n      <td>3716.961680</td>\n    </tr>\n    <tr>\n      <th>2021-09-30 10:00:00</th>\n      <td>3593.571389</td>\n    </tr>\n    <tr>\n      <th>2021-09-30 10:30:00</th>\n      <td>3470.181099</td>\n    </tr>\n    <tr>\n      <th>2021-09-30 11:00:00</th>\n      <td>3346.790809</td>\n    </tr>\n    <tr>\n      <th>2021-09-30 11:30:00</th>\n      <td>3223.400519</td>\n    </tr>\n    <tr>\n      <th>2021-09-30 12:00:00</th>\n      <td>3100.010229</td>\n    </tr>\n    <tr>\n      <th>2021-09-30 12:30:00</th>\n      <td>2976.619939</td>\n    </tr>\n    <tr>\n      <th>2021-09-30 13:00:00</th>\n      <td>2853.229649</td>\n    </tr>\n    <tr>\n      <th>2021-09-30 13:30:00</th>\n      <td>2729.839359</td>\n    </tr>\n    <tr>\n      <th>2021-09-30 14:00:00</th>\n      <td>2606.449069</td>\n    </tr>\n    <tr>\n      <th>2021-09-30 14:30:00</th>\n      <td>2483.058779</td>\n    </tr>\n    <tr>\n      <th>2021-09-30 15:00:00</th>\n      <td>2359.668489</td>\n    </tr>\n    <tr>\n      <th>2021-09-30 15:30:00</th>\n      <td>2236.278199</td>\n    </tr>\n    <tr>\n      <th>2021-09-30 16:00:00</th>\n      <td>2112.887908</td>\n    </tr>\n    <tr>\n      <th>2021-09-30 16:30:00</th>\n      <td>1989.497618</td>\n    </tr>\n    <tr>\n      <th>2021-09-30 17:00:00</th>\n      <td>1866.107328</td>\n    </tr>\n    <tr>\n      <th>2021-09-30 17:30:00</th>\n      <td>1742.717038</td>\n    </tr>\n    <tr>\n      <th>2021-09-30 18:00:00</th>\n      <td>1619.326748</td>\n    </tr>\n    <tr>\n      <th>2021-09-30 18:30:00</th>\n      <td>1495.936458</td>\n    </tr>\n    <tr>\n      <th>2021-09-30 19:00:00</th>\n      <td>1372.546168</td>\n    </tr>\n    <tr>\n      <th>2021-09-30 19:30:00</th>\n      <td>1249.155878</td>\n    </tr>\n    <tr>\n      <th>2021-09-30 20:00:00</th>\n      <td>1125.765588</td>\n    </tr>\n  </tbody>\n</table>\n</div>"
     },
     "execution_count": 202,
     "metadata": {},
     "output_type": "execute_result"
    }
   ],
   "source": [
    "forcast_df"
   ],
   "metadata": {
    "collapsed": false,
    "ExecuteTime": {
     "end_time": "2023-08-16T09:27:26.229685900Z",
     "start_time": "2023-08-16T09:27:26.223343400Z"
    }
   },
   "id": "80c785ac98cf400a"
  },
  {
   "cell_type": "code",
   "execution_count": 203,
   "outputs": [
    {
     "data": {
      "text/plain": "                     DEMAND (MW)\nDateTime                        \n2021-09-30 00:30:00     5804.726\n2021-09-30 01:00:00     5699.024\n2021-09-30 01:30:00     5589.282\n2021-09-30 02:00:00     5524.901\n2021-09-30 02:30:00     5472.084\n2021-09-30 03:00:00     5424.303\n2021-09-30 03:30:00     5399.637\n2021-09-30 04:00:00     5394.796\n2021-09-30 04:30:00     5387.679\n2021-09-30 05:00:00     5406.003\n2021-09-30 05:30:00     5480.429\n2021-09-30 06:00:00     5644.991\n2021-09-30 06:30:00     5804.781\n2021-09-30 07:00:00     5952.847\n2021-09-30 07:30:00     6119.357\n2021-09-30 08:00:00     6341.014\n2021-09-30 08:30:00     6565.951\n2021-09-30 09:00:00     6717.800\n2021-09-30 09:30:00     6799.686\n2021-09-30 10:00:00     6840.643\n2021-09-30 10:30:00     6861.840\n2021-09-30 11:00:00     6862.039\n2021-09-30 11:30:00     6856.209\n2021-09-30 12:00:00     6797.086\n2021-09-30 12:30:00     6742.506\n2021-09-30 13:00:00     6737.044\n2021-09-30 13:30:00     6804.263\n2021-09-30 14:00:00     6858.570\n2021-09-30 14:30:00     6863.838\n2021-09-30 15:00:00     6833.954\n2021-09-30 15:30:00     6807.707\n2021-09-30 16:00:00     6794.253\n2021-09-30 16:30:00     6770.040\n2021-09-30 17:00:00     6723.640\n2021-09-30 17:30:00     6663.229\n2021-09-30 18:00:00     6595.578\n2021-09-30 18:30:00     6557.850\n2021-09-30 19:00:00     6592.496\n2021-09-30 19:30:00     6628.037\n2021-09-30 20:00:00     6623.663",
      "text/html": "<div>\n<style scoped>\n    .dataframe tbody tr th:only-of-type {\n        vertical-align: middle;\n    }\n\n    .dataframe tbody tr th {\n        vertical-align: top;\n    }\n\n    .dataframe thead th {\n        text-align: right;\n    }\n</style>\n<table border=\"1\" class=\"dataframe\">\n  <thead>\n    <tr style=\"text-align: right;\">\n      <th></th>\n      <th>DEMAND (MW)</th>\n    </tr>\n    <tr>\n      <th>DateTime</th>\n      <th></th>\n    </tr>\n  </thead>\n  <tbody>\n    <tr>\n      <th>2021-09-30 00:30:00</th>\n      <td>5804.726</td>\n    </tr>\n    <tr>\n      <th>2021-09-30 01:00:00</th>\n      <td>5699.024</td>\n    </tr>\n    <tr>\n      <th>2021-09-30 01:30:00</th>\n      <td>5589.282</td>\n    </tr>\n    <tr>\n      <th>2021-09-30 02:00:00</th>\n      <td>5524.901</td>\n    </tr>\n    <tr>\n      <th>2021-09-30 02:30:00</th>\n      <td>5472.084</td>\n    </tr>\n    <tr>\n      <th>2021-09-30 03:00:00</th>\n      <td>5424.303</td>\n    </tr>\n    <tr>\n      <th>2021-09-30 03:30:00</th>\n      <td>5399.637</td>\n    </tr>\n    <tr>\n      <th>2021-09-30 04:00:00</th>\n      <td>5394.796</td>\n    </tr>\n    <tr>\n      <th>2021-09-30 04:30:00</th>\n      <td>5387.679</td>\n    </tr>\n    <tr>\n      <th>2021-09-30 05:00:00</th>\n      <td>5406.003</td>\n    </tr>\n    <tr>\n      <th>2021-09-30 05:30:00</th>\n      <td>5480.429</td>\n    </tr>\n    <tr>\n      <th>2021-09-30 06:00:00</th>\n      <td>5644.991</td>\n    </tr>\n    <tr>\n      <th>2021-09-30 06:30:00</th>\n      <td>5804.781</td>\n    </tr>\n    <tr>\n      <th>2021-09-30 07:00:00</th>\n      <td>5952.847</td>\n    </tr>\n    <tr>\n      <th>2021-09-30 07:30:00</th>\n      <td>6119.357</td>\n    </tr>\n    <tr>\n      <th>2021-09-30 08:00:00</th>\n      <td>6341.014</td>\n    </tr>\n    <tr>\n      <th>2021-09-30 08:30:00</th>\n      <td>6565.951</td>\n    </tr>\n    <tr>\n      <th>2021-09-30 09:00:00</th>\n      <td>6717.800</td>\n    </tr>\n    <tr>\n      <th>2021-09-30 09:30:00</th>\n      <td>6799.686</td>\n    </tr>\n    <tr>\n      <th>2021-09-30 10:00:00</th>\n      <td>6840.643</td>\n    </tr>\n    <tr>\n      <th>2021-09-30 10:30:00</th>\n      <td>6861.840</td>\n    </tr>\n    <tr>\n      <th>2021-09-30 11:00:00</th>\n      <td>6862.039</td>\n    </tr>\n    <tr>\n      <th>2021-09-30 11:30:00</th>\n      <td>6856.209</td>\n    </tr>\n    <tr>\n      <th>2021-09-30 12:00:00</th>\n      <td>6797.086</td>\n    </tr>\n    <tr>\n      <th>2021-09-30 12:30:00</th>\n      <td>6742.506</td>\n    </tr>\n    <tr>\n      <th>2021-09-30 13:00:00</th>\n      <td>6737.044</td>\n    </tr>\n    <tr>\n      <th>2021-09-30 13:30:00</th>\n      <td>6804.263</td>\n    </tr>\n    <tr>\n      <th>2021-09-30 14:00:00</th>\n      <td>6858.570</td>\n    </tr>\n    <tr>\n      <th>2021-09-30 14:30:00</th>\n      <td>6863.838</td>\n    </tr>\n    <tr>\n      <th>2021-09-30 15:00:00</th>\n      <td>6833.954</td>\n    </tr>\n    <tr>\n      <th>2021-09-30 15:30:00</th>\n      <td>6807.707</td>\n    </tr>\n    <tr>\n      <th>2021-09-30 16:00:00</th>\n      <td>6794.253</td>\n    </tr>\n    <tr>\n      <th>2021-09-30 16:30:00</th>\n      <td>6770.040</td>\n    </tr>\n    <tr>\n      <th>2021-09-30 17:00:00</th>\n      <td>6723.640</td>\n    </tr>\n    <tr>\n      <th>2021-09-30 17:30:00</th>\n      <td>6663.229</td>\n    </tr>\n    <tr>\n      <th>2021-09-30 18:00:00</th>\n      <td>6595.578</td>\n    </tr>\n    <tr>\n      <th>2021-09-30 18:30:00</th>\n      <td>6557.850</td>\n    </tr>\n    <tr>\n      <th>2021-09-30 19:00:00</th>\n      <td>6592.496</td>\n    </tr>\n    <tr>\n      <th>2021-09-30 19:30:00</th>\n      <td>6628.037</td>\n    </tr>\n    <tr>\n      <th>2021-09-30 20:00:00</th>\n      <td>6623.663</td>\n    </tr>\n  </tbody>\n</table>\n</div>"
     },
     "execution_count": 203,
     "metadata": {},
     "output_type": "execute_result"
    }
   ],
   "source": [
    "actual_results_df.head(no_steps)"
   ],
   "metadata": {
    "collapsed": false,
    "ExecuteTime": {
     "end_time": "2023-08-16T09:27:26.246533500Z",
     "start_time": "2023-08-16T09:27:26.227685500Z"
    }
   },
   "id": "3ce8cedf6c14e4bb"
  },
  {
   "cell_type": "code",
   "execution_count": 204,
   "outputs": [
    {
     "data": {
      "text/plain": "-0.8079991230240028"
     },
     "execution_count": 204,
     "metadata": {},
     "output_type": "execute_result"
    }
   ],
   "source": [
   
    "np.corrcoef(forcast_df['DEMAND (MW)'].values, actual_results_df['DEMAND (MW)'].head(no_steps).values)[0, 1]"
   ],
   "metadata": {
    "collapsed": false,
    "ExecuteTime": {
     "end_time": "2023-08-16T09:27:26.315847700Z",
     "start_time": "2023-08-16T09:27:26.244152600Z"
    }
   },
   "id": "93d66ec899eb29db"
  },
  {
   "cell_type": "code",
   "execution_count": 204,
   "outputs": [],
   "source": [],
   "metadata": {
    "collapsed": false,
    "ExecuteTime": {
     "end_time": "2023-08-16T09:27:26.315847700Z",
     "start_time": "2023-08-16T09:27:26.257925800Z"
    }
   },
   "id": "2c6510e388322aab"
  },
  {
   "cell_type": "code",
   "execution_count": 204,
   "outputs": [],
   "source": [],
   "metadata": {
    "collapsed": false,
    "ExecuteTime": {
     "end_time": "2023-08-16T09:27:26.315847700Z",
     "start_time": "2023-08-16T09:27:26.260725800Z"
    }
   },
   "id": "43ef961c528f7f9f"
  }
 ],
 "metadata": {
  "kernelspec": {
   "display_name": "Python 3",
   "language": "python",
   "name": "python3"
  },
  "language_info": {
   "codemirror_mode": {
    "name": "ipython",
    "version": 2
   },
   "file_extension": ".py",
   "mimetype": "text/x-python",
   "name": "python",
   "nbconvert_exporter": "python",
   "pygments_lexer": "ipython2",
   "version": "2.7.6"
  }
 },
 "nbformat": 4,
 "nbformat_minor": 5
}
